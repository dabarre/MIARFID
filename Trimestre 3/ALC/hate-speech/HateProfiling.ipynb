{
 "cells": [
  {
   "cell_type": "code",
   "execution_count": 1,
   "metadata": {
    "id": "3u-vZStpPa01"
   },
   "outputs": [
    {
     "name": "stderr",
     "output_type": "stream",
     "text": [
      "/home/david/.local/lib/python3.6/site-packages/gensim/similarities/__init__.py:15: UserWarning: The gensim.similarities.levenshtein submodule is disabled, because the optional Levenshtein package <https://pypi.org/project/python-Levenshtein/> is unavailable. Install Levenhstein (e.g. `pip install python-Levenshtein`) to suppress this warning.\n",
      "  warnings.warn(msg)\n"
     ]
    }
   ],
   "source": [
    "import numpy as np\n",
    "import pandas as pd\n",
    "import nltk\n",
    "import re\n",
    "import string\n",
    "import os\n",
    "import pickle\n",
    "\n",
    "import matplotlib.pyplot as plt\n",
    "import xml.etree.ElementTree as ET\n",
    "\n",
    "from gensim.models import Word2Vec\n",
    "from sklearn.feature_extraction.text import CountVectorizer\n",
    "from sklearn.feature_extraction.text import TfidfTransformer\n",
    "from sklearn.feature_extraction.text import HashingVectorizer\n",
    "\n",
    "from keras.preprocessing.text import Tokenizer\n",
    "from keras.preprocessing.sequence import pad_sequences\n",
    "\n",
    "from nltk.corpus import stopwords\n",
    "from nltk.stem import WordNetLemmatizer\n",
    "from nltk import tokenize\n",
    "from nltk.tokenize import TweetTokenizer\n",
    "\n",
    "from sklearn.model_selection import train_test_split\n",
    "from sklearn.model_selection import StratifiedKFold\n",
    "from sklearn.metrics import classification_report, confusion_matrix, accuracy_score, roc_curve, roc_auc_score\n",
    "\n",
    "import keras\n",
    "from keras.models import Sequential\n",
    "from keras.layers import Dense, Dropout, BatchNormalization, Activation, Concatenate\n",
    "from keras.layers import Embedding, LSTM, Bidirectional, Flatten\n",
    "from keras.layers import Conv1D, MaxPooling1D, GlobalMaxPooling1D\n",
    "from keras.optimizers import SGD, Adam\n",
    "from keras.callbacks import ModelCheckpoint, CSVLogger\n",
    "from keras.models import load_model\n",
    "from keras.utils import plot_model\n",
    "\n",
    "import tensorflow as tf\n",
    "\n",
    "from transformers import BertTokenizer"
   ]
  },
  {
   "cell_type": "code",
   "execution_count": 2,
   "metadata": {
    "id": "4u9xkayDoUAK"
   },
   "outputs": [],
   "source": [
    "!unzip -q \"/content/pan21-author-profiling-training-2021-03-14.zip\"\n",
    "!mkdir \"/content/results/\""
   ]
  },
  {
   "cell_type": "code",
   "execution_count": 2,
   "metadata": {
    "id": "LZ5LmhXrxxT7"
   },
   "outputs": [],
   "source": [
    "#enDirectory = '/content/pan21-author-profiling-training-2021-03-14/en'\n",
    "#esDirectory = '/content/pan21-author-profiling-training-2021-03-14/es'\n",
    "\n",
    "esDirectory = 'dataset-pan21-author-profiling-training-2021-03-14/es'\n",
    "esTestDirectory = 'pan21-author-profiling-test-without-gold/es'\n",
    "\n",
    "enDirectory = 'dataset-pan21-author-profiling-training-2021-03-14/en'\n",
    "enTestDirectory = 'pan21-author-profiling-test-without-gold/en'"
   ]
  },
  {
   "cell_type": "code",
   "execution_count": null,
   "metadata": {
    "id": "MHgFE5qCOsSm"
   },
   "outputs": [],
   "source": [
    "# 40,000 per language\n",
    "# 200 authors per language\n",
    "# 200 tweets per author\n",
    "# balanced dataset 50/50 of each class"
   ]
  },
  {
   "cell_type": "markdown",
   "metadata": {},
   "source": [
    "### Steps:\n",
    "\n",
    "Funciones auxiliares:\n",
    "- Recoger todos los tweets\n",
    "- Limpiarlos, users un token, hastag un token, url un token, quitar stopwords y punctuation y tokenizar con TweetTokenizer\n",
    "- Hacer un 80:20 split manteniendo autores\n",
    "- Preentrenar word embeddings, luego no son tan importantes preentrenarlos\n",
    "- Convertir sequencias a ints para leer por la red + OOV y PAD\n",
    "- Hacer un preproceso extra para bert con BertTokenizer -> secuencias de ints y mask\n",
    "- Funcion para juntar predictions y hacer author profiling (Mejorar la revisión del f1 de los modelos)\n",
    "- Funcion para sacar a xml los resultados de test\n",
    "\n",
    "Se decide explorar la longitud de los tweets para decidir una longitud máxima del vector, se exploran individualmente y por 20 tweets juntos -> 15 y 250 en longitud respectivamente. (Se pueden enseñar las tablas si eso). Entonces lo que se mete a los modelos puede ser:\n",
    "- Es tweet individual\n",
    "- En tweet individual\n",
    "- Es 20 tweets juntos\n",
    "- En 20 tweets juntos"
   ]
  },
  {
   "cell_type": "markdown",
   "metadata": {},
   "source": [
    "### Functions"
   ]
  },
  {
   "cell_type": "code",
   "execution_count": 3,
   "metadata": {
    "id": "zw8u2TPfO0ma"
   },
   "outputs": [],
   "source": [
    "def create_dataframe(path):\n",
    "    data = []\n",
    "\n",
    "    # Load tweets\n",
    "    for filename in os.listdir(path):\n",
    "        if(filename == \"truth.txt\"):\n",
    "            continue\n",
    "        tree = ET.parse(path + '/' + filename)\n",
    "        root = tree.getroot()\n",
    "\n",
    "        author_id = filename.split('.')[0]\n",
    "        lang = root.attrib['lang']\n",
    "        t_class = int(root.attrib['class'])\n",
    "\n",
    "        for document in root.iter('document'):        \n",
    "            info = [author_id, lang, document.text, t_class]\n",
    "            data.append(info)\n",
    "    \n",
    "    # Create DataFrame with all data\n",
    "    col_names = ['author_id', 'lang', 'tweet', 'type']\n",
    "    return pd.DataFrame(data, columns=col_names)\n",
    "\n",
    "def create_dataframe_test(path):\n",
    "    data = []\n",
    "\n",
    "    # Load tweets\n",
    "    for filename in os.listdir(path):\n",
    "        tree = ET.parse(path + '/' + filename)\n",
    "        root = tree.getroot()\n",
    "\n",
    "        author_id = filename.split('.')[0]\n",
    "        lang = root.attrib['lang']\n",
    "\n",
    "        for document in root.iter('document'):        \n",
    "            info = [author_id, lang, document.text]\n",
    "            data.append(info)\n",
    "    \n",
    "    # Create DataFrame with all data\n",
    "    col_names = ['author_id', 'lang', 'tweet']\n",
    "    return pd.DataFrame(data, columns=col_names)"
   ]
  },
  {
   "cell_type": "code",
   "execution_count": 22,
   "metadata": {},
   "outputs": [],
   "source": [
    "def join_tweets(df, n_tweets):\n",
    "    if len(df) % n_tweets != 0:\n",
    "        print(\"Select a divisible number of {}\".format(len(df)))\n",
    "        return None\n",
    "    \n",
    "    data = []\n",
    "    for i in range(0, len(df), n_tweets):\n",
    "        author_id = df['author_id'][i]\n",
    "        lang = df['lang'][i]\n",
    "        t_class = df['type'][i]\n",
    "        tweet_clean = df['tweet_clean'][i]\n",
    "        \n",
    "        j = i + n_tweets\n",
    "        tweet_clean = \" \".join(df['tweet_clean'][i:j])\n",
    "\n",
    "        info = [author_id, lang, tweet_clean, t_class]\n",
    "        data.append(info)    \n",
    "    \n",
    "    # Create DataFrame with all data\n",
    "    col_names = ['author_id', 'lang', 'tweet_clean', 'type']\n",
    "    return pd.DataFrame(data, columns=col_names)\n",
    "\n",
    "def join_tweets_test(df, n_tweets):\n",
    "    if len(df) % n_tweets != 0:\n",
    "        print(\"Select a divisible number of {}\".format(len(df)))\n",
    "        return None\n",
    "    \n",
    "    data = []\n",
    "    for i in range(0, len(df), n_tweets):\n",
    "        author_id = df['author_id'][i]\n",
    "        lang = df['lang'][i]\n",
    "        #t_class = df['type'][i]\n",
    "        tweet_clean = df['tweet_clean'][i]\n",
    "        \n",
    "        j = i + n_tweets\n",
    "        tweet_clean = \" \".join(df_es['tweet_clean'][i:j])\n",
    "\n",
    "        info = [author_id, lang, tweet_clean]\n",
    "        data.append(info)    \n",
    "    \n",
    "    # Create DataFrame with all data\n",
    "    col_names = ['author_id', 'lang', 'tweet_clean']\n",
    "    return pd.DataFrame(data, columns=col_names)"
   ]
  },
  {
   "cell_type": "code",
   "execution_count": 5,
   "metadata": {},
   "outputs": [],
   "source": [
    "reUser = re.compile(r'@+\\w+')\n",
    "reHashtag = re.compile(r'#+\\w+')\n",
    "reWeb = re.compile(r'(https?:\\/\\/(?:www\\.|(?!www))[a-zA-Z0-9][a-zA-Z0-9-]+[a-zA-Z0-9]\\.[^\\s]{2,}|www\\.[a-zA-Z0-9][a-zA-Z0-9-]+[a-zA-Z0-9]\\.[^\\s]{2,}|https?:\\/\\/(?:www\\.|(?!www))[a-zA-Z0-9]+\\.[^\\s]{2,}|www\\.[a-zA-Z0-9]+\\.[^\\s]{2,})')\n",
    "tokenizer = TweetTokenizer(strip_handles=False, reduce_len=True, preserve_case=False)\n",
    "\n",
    "\n",
    "def clean_text_es(text):\n",
    "    aux = []\n",
    "    \n",
    "    # Remove stopwords\n",
    "    for word in text.split():\n",
    "        if word not in stopwords.words(\"spanish\"):\n",
    "            aux.append(word)\n",
    "    #text = \" \".join(aux)\n",
    "    \n",
    "    # Normalize user tags\n",
    "    for item in re.finditer(reUser, text):\n",
    "        text = reUser.sub('#user', text)\n",
    "    \n",
    "    # Normalize hastags\n",
    "    for item in re.finditer(reHashtag, text):\n",
    "        text = reHashtag.sub('#hastag', text)\n",
    "    \n",
    "    # Normalize urls\n",
    "    for item in re.finditer(reWeb, text):\n",
    "        text = reWeb.sub('#web', text)\n",
    "\n",
    "    # Remove punctuation except #\n",
    "    punctuation = '!\"$%&\\'()*+,-./:;<=>?@[\\\\]^_`{|}~'\n",
    "    text = text.translate(str.maketrans('', '', string.punctuation))\n",
    "    \n",
    "    text = list(tokenizer.tokenize(text))\n",
    "    text = \" \".join(text)\n",
    "    return text\n",
    "\n",
    "def clean_text_en(text):\n",
    "    aux = []\n",
    "    \n",
    "    # Remove stopwords\n",
    "    for word in text.split():\n",
    "        if word not in stopwords.words(\"english\"):\n",
    "            aux.append(word)\n",
    "    #text = \" \".join(aux)\n",
    "    \n",
    "    # Normalize user tags\n",
    "    for item in re.finditer(reUser, text):\n",
    "        text = reUser.sub('#user', text)\n",
    "    \n",
    "    # Normalize hastags\n",
    "    for item in re.finditer(reHashtag, text):\n",
    "        text = reHashtag.sub('#hastag', text)\n",
    "    \n",
    "    # Normalize urls\n",
    "    for item in re.finditer(reWeb, text):\n",
    "        text = reWeb.sub('#web', text)\n",
    "\n",
    "    # Remove punctuation except #\n",
    "    punctuation = '!\"$%&\\'()*+,-./:;<=>?@[\\\\]^_`{|}~'\n",
    "    text = text.translate(str.maketrans('', '', string.punctuation))\n",
    "    \n",
    "    text = list(tokenizer.tokenize(text))\n",
    "    text = \" \".join(text)\n",
    "    return text"
   ]
  },
  {
   "cell_type": "code",
   "execution_count": 6,
   "metadata": {},
   "outputs": [],
   "source": [
    "def get_data_from_df(dataframe, split=0.2):\n",
    "    # 20 authors hate + 20 authors not in test \n",
    "    # = 40 authors = 8,000 tweets                   -> 4000 each\n",
    "    # =     ...    = 8,000 tweets / 20 = 400 tweets ->  200 each\n",
    "    \n",
    "    n_tweets = int(len(dataframe) * split / 2)\n",
    "\n",
    "    x_train0 = df_es.loc[(df_es.type == 0), 'tweet_clean'][n_tweets:].values\n",
    "    x_train1 = df_es.loc[(df_es.type == 1), 'tweet_clean'][n_tweets:].values\n",
    "\n",
    "    y_train0 = df_es.loc[(df_es.type == 0), 'type'][n_tweets:].values\n",
    "    y_train1 = df_es.loc[(df_es.type == 1), 'type'][n_tweets:].values\n",
    "\n",
    "    x_valid0 = df_es.loc[(df_es.type == 0), 'tweet_clean'][:n_tweets].values\n",
    "    x_valid1 = df_es.loc[(df_es.type == 1), 'tweet_clean'][:n_tweets].values\n",
    "\n",
    "    y_valid0 = df_es.loc[(df_es.type == 0), 'type'][:n_tweets].values\n",
    "    y_valid1 = df_es.loc[(df_es.type == 1), 'type'][:n_tweets].values\n",
    "\n",
    "    # HAY QUE HACER SHUFFLE AL TRAINING SET\n",
    "    x_train = np.concatenate((x_train0, x_train1), axis=None)\n",
    "    y_train = np.concatenate((y_train0, y_train1), axis=None)\n",
    "\n",
    "    x_valid = np.concatenate((x_valid0, x_valid1), axis=None)\n",
    "    y_valid = np.concatenate((y_valid0, y_valid1), axis=None)\n",
    "\n",
    "    return x_train, y_train, x_valid, y_valid"
   ]
  },
  {
   "cell_type": "code",
   "execution_count": 9,
   "metadata": {},
   "outputs": [],
   "source": [
    "def create_embedding_matrix(corpus, word_embedding_size, max_words=10000, oov_tok='<OOV>'):\n",
    "    '''\n",
    "    Parameters:\n",
    "    size - size of dense vector to represent each token/word\n",
    "    window - max distance between target and neighbour word\n",
    "    min_count - min frequency of count of words. Ignore below threshold\n",
    "    workers - # of threads to run\n",
    "\n",
    "    sample - to downsample frequent words\n",
    "    sg - if skip-gram is used (=1) else CBOW\n",
    "    window - # of words looked before and after the analyzed one\n",
    "    '''\n",
    "    \n",
    "    word_sequence = [] # w2v necesita listas de tokens\n",
    "    for text in corpus:\n",
    "        word_sequence.append(text.split())\n",
    "    \n",
    "    # Train w2v model\n",
    "    w2v = Word2Vec(word_sequence,\n",
    "               sg=0,\n",
    "               vector_size=word_embedding_size,\n",
    "               window=5,\n",
    "               min_count=1,\n",
    "               workers=4)\n",
    "\n",
    "    # Needs to recieve string, hace split=(' ')\n",
    "    keras_tokenizer = Tokenizer(num_words=max_words,\n",
    "                                filters='!\"$%&()*+,-./:;<=>?@[\\\\]^_`{|}~\\t\\n', # all minus #\n",
    "                                lower=True,\n",
    "                                split=' ',\n",
    "                                oov_token=oov_tok)\n",
    "    # Transform text into integers\n",
    "    keras_tokenizer.fit_on_texts(corpus)\n",
    "    \n",
    "    # Prepare embedding matrix\n",
    "    embedding_matrix = np.zeros((max_words, word_embedding_size))\n",
    "\n",
    "    for word, i in keras_tokenizer.word_index.items():\n",
    "        if i >= max_words:\n",
    "            break\n",
    "        if word in w2v.wv.key_to_index:\n",
    "            # words not found in embedding index will be all-zeros.\n",
    "            embedding_matrix[i] = w2v.wv[word]\n",
    "\n",
    "    return embedding_matrix"
   ]
  },
  {
   "cell_type": "code",
   "execution_count": 8,
   "metadata": {},
   "outputs": [],
   "source": [
    "def to_int_seq(x_train, x_valid, x_test, max_length, max_words=10000, oov_tok='<OOV>', trunc_type='post', pad_type='post'):\n",
    "    \n",
    "    # Needs to recieve string, hace split=(' ')\n",
    "    keras_tokenizer = Tokenizer(num_words=max_words,\n",
    "                                filters='!\"$%&()*+,-./:;<=>?@[\\\\]^_`{|}~\\t\\n', # all minus #\n",
    "                                lower=True,\n",
    "                                split=' ',\n",
    "                                oov_token=oov_tok)\n",
    "    # Transform text into integers\n",
    "    corpus = np.concatenate((x_train, x_valid), axis=None)\n",
    "    keras_tokenizer.fit_on_texts(corpus)\n",
    "\n",
    "    train_sequences = keras_tokenizer.texts_to_sequences(x_train)\n",
    "    train_padded = pad_sequences(train_sequences,\n",
    "                                 maxlen=max_length,\n",
    "                                 padding=pad_type,\n",
    "                                 truncating=trunc_type)\n",
    "\n",
    "    valid_sequences = keras_tokenizer.texts_to_sequences(x_valid)\n",
    "    valid_padded = pad_sequences(valid_sequences,\n",
    "                                 maxlen=max_length,\n",
    "                                 padding=pad_type,\n",
    "                                 truncating=trunc_type)\n",
    "\n",
    "    test_sequences = keras_tokenizer.texts_to_sequences(x_test)\n",
    "    test_padded = pad_sequences(test_sequences,\n",
    "                                maxlen=max_length,\n",
    "                                padding=pad_type,\n",
    "                                truncating=trunc_type)\n",
    "    \n",
    "    return train_padded, valid_padded, test_padded"
   ]
  },
  {
   "cell_type": "code",
   "execution_count": 33,
   "metadata": {},
   "outputs": [],
   "source": [
    "def prepare_data_bert(sentences, max_length):\n",
    "    bert_tokenizer = BertTokenizer.from_pretrained(\"bert-base-uncased\")\n",
    "\n",
    "    input_ids=[]\n",
    "    attention_masks=[]\n",
    "\n",
    "    # Cambiar para que no sea uno a uno\n",
    "    for sent in sentences:\n",
    "        bert_inp = bert_tokenizer.encode_plus(\n",
    "            sent,\n",
    "            add_special_tokens=True,\n",
    "            max_length=max_length,\n",
    "            pad_to_max_length=True,\n",
    "            return_attention_mask=True)\n",
    "        \n",
    "        input_ids.append(bert_inp['input_ids'])\n",
    "        attention_masks.append(bert_inp['attention_mask'])\n",
    "\n",
    "    input_ids=np.asarray(input_ids)\n",
    "    attention_masks=np.array(attention_masks)\n",
    "    return input_ids, attention_masks"
   ]
  },
  {
   "cell_type": "code",
   "execution_count": null,
   "metadata": {},
   "outputs": [],
   "source": [
    "######### AUTHOR PROFILING FUNCTION FOR JOINING PREDICTIONS #########\n",
    "\n",
    "# de 20 0s y 20 1s\n",
    "author_profile = np.array([0,0,0,0,0,0,0,0,0,0,0,0,0,0,0,0,0,0,0,0,1,1,1,1,1,1,1,1,1,1,1,1,1,1,1,1,1,1,1,1])\n",
    "\n",
    "# Example predictions\n",
    "predictions = np.random.rand(len(y_test))\n",
    "\n",
    "def author_profiling_report(author_profile, author_predictions):\n",
    "    # Check author profiling -> 8,000 predictions\n",
    "    # Split into 40 authors -> 200 tweets per author\n",
    "    author_predictions = np.average(np.array_split(predictions, 40), axis=1)\n",
    "    author_predictions = np.array([1 if ap >= 0.5 else 0 for ap in author_predictions])\n",
    "\n",
    "    print(classification_report(author_profile, author_predictions, labels=[0, 1], target_names=['not hate','hate']))\n",
    "\n",
    "print(predictions)\n",
    "author_profiling_report(author_profile, predictions)"
   ]
  },
  {
   "cell_type": "code",
   "execution_count": null,
   "metadata": {},
   "outputs": [],
   "source": [
    "# txt output\n",
    "# <author id=\"author-id\" lang=\"en|es\" type=\"0|1\"/>\n",
    "def format_output(author_predictions):\n",
    "    root = ET.Element(\"author\")\n",
    "    root.set(\"id\", \"123\")\n",
    "    root.set(\"lang\", \"es\")\n",
    "    root.set(\"type\", \"0\")\n",
    "\n",
    "    tree = ET.ElementTree(root)\n",
    "    xml_str = ET.tostring(root).decode('utf8')\n",
    "\n",
    "    save_path_file = \"person.xml\"\n",
    "\n",
    "    with open(save_path_file, \"w\") as f:\n",
    "        f.write(xml_str) "
   ]
  },
  {
   "cell_type": "markdown",
   "metadata": {},
   "source": [
    "### Data Exploration"
   ]
  },
  {
   "cell_type": "markdown",
   "metadata": {},
   "source": [
    "#### Single Tweets"
   ]
  },
  {
   "cell_type": "code",
   "execution_count": 15,
   "metadata": {
    "colab": {
     "base_uri": "https://localhost:8080/"
    },
    "id": "Trhq5STgXcDD",
    "outputId": "f84377d8-68cd-4b87-fea7-00bbf5ecc58f"
   },
   "outputs": [
    {
     "data": {
      "text/plain": [
       "(40000, 40000)"
      ]
     },
     "execution_count": 15,
     "metadata": {},
     "output_type": "execute_result"
    }
   ],
   "source": [
    "len(df_es), len(df_en)"
   ]
  },
  {
   "cell_type": "code",
   "execution_count": 16,
   "metadata": {
    "colab": {
     "base_uri": "https://localhost:8080/",
     "height": 258
    },
    "id": "Joo-_niuO4Se",
    "outputId": "806fd1d2-fb15-4d2a-bde7-42f9edb0f2b1"
   },
   "outputs": [
    {
     "data": {
      "text/html": [
       "<div>\n",
       "<style scoped>\n",
       "    .dataframe tbody tr th:only-of-type {\n",
       "        vertical-align: middle;\n",
       "    }\n",
       "\n",
       "    .dataframe tbody tr th {\n",
       "        vertical-align: top;\n",
       "    }\n",
       "\n",
       "    .dataframe thead th {\n",
       "        text-align: right;\n",
       "    }\n",
       "</style>\n",
       "<table border=\"1\" class=\"dataframe\">\n",
       "  <thead>\n",
       "    <tr style=\"text-align: right;\">\n",
       "      <th></th>\n",
       "      <th>author_id</th>\n",
       "      <th>lang</th>\n",
       "      <th>tweet</th>\n",
       "      <th>type</th>\n",
       "      <th>tweet_clean</th>\n",
       "    </tr>\n",
       "  </thead>\n",
       "  <tbody>\n",
       "    <tr>\n",
       "      <th>0</th>\n",
       "      <td>f558a21dd8e02f2f7d4e5d5c3ea24195</td>\n",
       "      <td>es</td>\n",
       "      <td>muero de amor con milo 🥰</td>\n",
       "      <td>0</td>\n",
       "      <td>muero de amor con milo 🥰</td>\n",
       "    </tr>\n",
       "    <tr>\n",
       "      <th>1</th>\n",
       "      <td>f558a21dd8e02f2f7d4e5d5c3ea24195</td>\n",
       "      <td>es</td>\n",
       "      <td>vieron cuando les da paja hablar con alguien, ...</td>\n",
       "      <td>0</td>\n",
       "      <td>vieron cuando les da paja hablar con alguien b...</td>\n",
       "    </tr>\n",
       "    <tr>\n",
       "      <th>2</th>\n",
       "      <td>f558a21dd8e02f2f7d4e5d5c3ea24195</td>\n",
       "      <td>es</td>\n",
       "      <td>mi abuela me manda audios de TRES MINUTOS Y ME...</td>\n",
       "      <td>0</td>\n",
       "      <td>mi abuela me manda audios de tres minutos y me...</td>\n",
       "    </tr>\n",
       "    <tr>\n",
       "      <th>3</th>\n",
       "      <td>f558a21dd8e02f2f7d4e5d5c3ea24195</td>\n",
       "      <td>es</td>\n",
       "      <td>lo amo fuerte #URL#</td>\n",
       "      <td>0</td>\n",
       "      <td>lo amo fuerte hastag</td>\n",
       "    </tr>\n",
       "    <tr>\n",
       "      <th>4</th>\n",
       "      <td>f558a21dd8e02f2f7d4e5d5c3ea24195</td>\n",
       "      <td>es</td>\n",
       "      <td>mi especialidad son las tartas no se habla mas</td>\n",
       "      <td>0</td>\n",
       "      <td>mi especialidad son las tartas no se habla mas</td>\n",
       "    </tr>\n",
       "  </tbody>\n",
       "</table>\n",
       "</div>"
      ],
      "text/plain": [
       "                          author_id lang  \\\n",
       "0  f558a21dd8e02f2f7d4e5d5c3ea24195   es   \n",
       "1  f558a21dd8e02f2f7d4e5d5c3ea24195   es   \n",
       "2  f558a21dd8e02f2f7d4e5d5c3ea24195   es   \n",
       "3  f558a21dd8e02f2f7d4e5d5c3ea24195   es   \n",
       "4  f558a21dd8e02f2f7d4e5d5c3ea24195   es   \n",
       "\n",
       "                                               tweet  type  \\\n",
       "0                           muero de amor con milo 🥰     0   \n",
       "1  vieron cuando les da paja hablar con alguien, ...     0   \n",
       "2  mi abuela me manda audios de TRES MINUTOS Y ME...     0   \n",
       "3                                lo amo fuerte #URL#     0   \n",
       "4     mi especialidad son las tartas no se habla mas     0   \n",
       "\n",
       "                                         tweet_clean  \n",
       "0                           muero de amor con milo 🥰  \n",
       "1  vieron cuando les da paja hablar con alguien b...  \n",
       "2  mi abuela me manda audios de tres minutos y me...  \n",
       "3                               lo amo fuerte hastag  \n",
       "4     mi especialidad son las tartas no se habla mas  "
      ]
     },
     "execution_count": 16,
     "metadata": {},
     "output_type": "execute_result"
    }
   ],
   "source": [
    "df_es.head()"
   ]
  },
  {
   "cell_type": "code",
   "execution_count": 17,
   "metadata": {
    "colab": {
     "base_uri": "https://localhost:8080/"
    },
    "id": "xH2owtiBO52y",
    "outputId": "354f5be7-fe2f-43c7-e7d1-828147fa28ba"
   },
   "outputs": [
    {
     "name": "stdout",
     "output_type": "stream",
     "text": [
      "---Es---\n",
      "count    40000.000000\n",
      "mean        13.300525\n",
      "std          5.568387\n",
      "min          3.000000\n",
      "25%          9.000000\n",
      "50%         13.000000\n",
      "75%         17.000000\n",
      "max         81.000000\n",
      "Name: tweetLength, dtype: float64\n"
     ]
    }
   ],
   "source": [
    "df_es['tweetLength'] = df_es['tweet_clean'].str.split().map(len)\n",
    "print(\"---Es---\")\n",
    "print(df_es['tweetLength'].describe())"
   ]
  },
  {
   "cell_type": "code",
   "execution_count": 18,
   "metadata": {
    "colab": {
     "base_uri": "https://localhost:8080/",
     "height": 283
    },
    "id": "GqBzmAYtYwEH",
    "outputId": "15ef7873-9937-40c9-b5e9-489c544bff22"
   },
   "outputs": [
    {
     "data": {
      "text/plain": [
       "<function matplotlib.pyplot.show(close=None, block=None)>"
      ]
     },
     "execution_count": 18,
     "metadata": {},
     "output_type": "execute_result"
    },
    {
     "data": {
      "image/png": "[encoded data removed]",
      "text/plain": [
       "<Figure size 432x288 with 1 Axes>"
      ]
     },
     "metadata": {
      "needs_background": "light"
     },
     "output_type": "display_data"
    }
   ],
   "source": [
    "plt.hist(df_es['tweetLength'], 50)\n",
    "plt.show"
   ]
  },
  {
   "cell_type": "code",
   "execution_count": 19,
   "metadata": {
    "colab": {
     "base_uri": "https://localhost:8080/",
     "height": 241
    },
    "id": "QieoKJPYO7NE",
    "outputId": "7781b08a-b1fe-4ce5-e814-12615132c2f4"
   },
   "outputs": [
    {
     "data": {
      "text/html": [
       "<div>\n",
       "<style scoped>\n",
       "    .dataframe tbody tr th:only-of-type {\n",
       "        vertical-align: middle;\n",
       "    }\n",
       "\n",
       "    .dataframe tbody tr th {\n",
       "        vertical-align: top;\n",
       "    }\n",
       "\n",
       "    .dataframe thead th {\n",
       "        text-align: right;\n",
       "    }\n",
       "</style>\n",
       "<table border=\"1\" class=\"dataframe\">\n",
       "  <thead>\n",
       "    <tr style=\"text-align: right;\">\n",
       "      <th></th>\n",
       "      <th>author_id</th>\n",
       "      <th>lang</th>\n",
       "      <th>tweet</th>\n",
       "      <th>type</th>\n",
       "      <th>tweet_clean</th>\n",
       "    </tr>\n",
       "  </thead>\n",
       "  <tbody>\n",
       "    <tr>\n",
       "      <th>0</th>\n",
       "      <td>99cb2cd23f7cf613d394502d17dedad0</td>\n",
       "      <td>en</td>\n",
       "      <td>First Catering 😎 #URL#</td>\n",
       "      <td>0</td>\n",
       "      <td>first catering 😎 hastag</td>\n",
       "    </tr>\n",
       "    <tr>\n",
       "      <th>1</th>\n",
       "      <td>99cb2cd23f7cf613d394502d17dedad0</td>\n",
       "      <td>en</td>\n",
       "      <td>RT #USER#: vibes with someone come naturally. ...</td>\n",
       "      <td>0</td>\n",
       "      <td>rt hastag vibes with someone come naturally do...</td>\n",
       "    </tr>\n",
       "    <tr>\n",
       "      <th>2</th>\n",
       "      <td>99cb2cd23f7cf613d394502d17dedad0</td>\n",
       "      <td>en</td>\n",
       "      <td>RT #USER#: never force nobody to appreciate you.</td>\n",
       "      <td>0</td>\n",
       "      <td>rt hastag never force nobody to appreciate you</td>\n",
       "    </tr>\n",
       "    <tr>\n",
       "      <th>3</th>\n",
       "      <td>99cb2cd23f7cf613d394502d17dedad0</td>\n",
       "      <td>en</td>\n",
       "      <td>RT #USER#: That camera pan to the horny niggas...</td>\n",
       "      <td>0</td>\n",
       "      <td>rt hastag that camera pan to the horny niggas ...</td>\n",
       "    </tr>\n",
       "    <tr>\n",
       "      <th>4</th>\n",
       "      <td>99cb2cd23f7cf613d394502d17dedad0</td>\n",
       "      <td>en</td>\n",
       "      <td>RT #USER#: Buying a $50 dollar bottle of liquo...</td>\n",
       "      <td>0</td>\n",
       "      <td>rt hastag buying a 50 dollar bottle of liquor ...</td>\n",
       "    </tr>\n",
       "  </tbody>\n",
       "</table>\n",
       "</div>"
      ],
      "text/plain": [
       "                          author_id lang  \\\n",
       "0  99cb2cd23f7cf613d394502d17dedad0   en   \n",
       "1  99cb2cd23f7cf613d394502d17dedad0   en   \n",
       "2  99cb2cd23f7cf613d394502d17dedad0   en   \n",
       "3  99cb2cd23f7cf613d394502d17dedad0   en   \n",
       "4  99cb2cd23f7cf613d394502d17dedad0   en   \n",
       "\n",
       "                                               tweet  type  \\\n",
       "0                             First Catering 😎 #URL#     0   \n",
       "1  RT #USER#: vibes with someone come naturally. ...     0   \n",
       "2   RT #USER#: never force nobody to appreciate you.     0   \n",
       "3  RT #USER#: That camera pan to the horny niggas...     0   \n",
       "4  RT #USER#: Buying a $50 dollar bottle of liquo...     0   \n",
       "\n",
       "                                         tweet_clean  \n",
       "0                            first catering 😎 hastag  \n",
       "1  rt hastag vibes with someone come naturally do...  \n",
       "2     rt hastag never force nobody to appreciate you  \n",
       "3  rt hastag that camera pan to the horny niggas ...  \n",
       "4  rt hastag buying a 50 dollar bottle of liquor ...  "
      ]
     },
     "execution_count": 19,
     "metadata": {},
     "output_type": "execute_result"
    }
   ],
   "source": [
    "df_en.head()"
   ]
  },
  {
   "cell_type": "code",
   "execution_count": 20,
   "metadata": {
    "colab": {
     "base_uri": "https://localhost:8080/"
    },
    "id": "fHgsBpAfO82C",
    "outputId": "ef86904f-b23e-4832-c43e-33d52ba4d7a8"
   },
   "outputs": [
    {
     "name": "stdout",
     "output_type": "stream",
     "text": [
      "---En---\n",
      "count    40000.000000\n",
      "mean        12.924000\n",
      "std          5.706929\n",
      "min          2.000000\n",
      "25%          8.000000\n",
      "50%         12.000000\n",
      "75%         17.000000\n",
      "max         61.000000\n",
      "Name: tweetLength, dtype: float64\n"
     ]
    }
   ],
   "source": [
    "df_en['tweetLength'] = df_en['tweet_clean'].str.split().map(len)\n",
    "print(\"---En---\")\n",
    "print(df_en['tweetLength'].describe())"
   ]
  },
  {
   "cell_type": "code",
   "execution_count": 21,
   "metadata": {
    "colab": {
     "base_uri": "https://localhost:8080/",
     "height": 286
    },
    "id": "auWTynLuZLJk",
    "outputId": "cc0b72e2-907b-44fc-a4ad-fbf0d8cb2517"
   },
   "outputs": [
    {
     "data": {
      "text/plain": [
       "<function matplotlib.pyplot.show(close=None, block=None)>"
      ]
     },
     "execution_count": 21,
     "metadata": {},
     "output_type": "execute_result"
    },
    {
     "data": {
      "image/png": "[encoded data removed]",
      "text/plain": [
       "<Figure size 432x288 with 1 Axes>"
      ]
     },
     "metadata": {
      "needs_background": "light"
     },
     "output_type": "display_data"
    }
   ],
   "source": [
    "plt.hist(df_en['tweetLength'], 50)\n",
    "plt.show"
   ]
  },
  {
   "cell_type": "markdown",
   "metadata": {},
   "source": [
    "#### 20 joined tweets"
   ]
  },
  {
   "cell_type": "code",
   "execution_count": 12,
   "metadata": {},
   "outputs": [
    {
     "data": {
      "text/plain": [
       "(2000, 2000)"
      ]
     },
     "execution_count": 12,
     "metadata": {},
     "output_type": "execute_result"
    }
   ],
   "source": [
    "len(df_es_20_long_text), len(df_en_20_long_text)"
   ]
  },
  {
   "cell_type": "code",
   "execution_count": 24,
   "metadata": {},
   "outputs": [
    {
     "data": {
      "text/html": [
       "<div>\n",
       "<style scoped>\n",
       "    .dataframe tbody tr th:only-of-type {\n",
       "        vertical-align: middle;\n",
       "    }\n",
       "\n",
       "    .dataframe tbody tr th {\n",
       "        vertical-align: top;\n",
       "    }\n",
       "\n",
       "    .dataframe thead th {\n",
       "        text-align: right;\n",
       "    }\n",
       "</style>\n",
       "<table border=\"1\" class=\"dataframe\">\n",
       "  <thead>\n",
       "    <tr style=\"text-align: right;\">\n",
       "      <th></th>\n",
       "      <th>author_id</th>\n",
       "      <th>lang</th>\n",
       "      <th>tweet_clean</th>\n",
       "      <th>type</th>\n",
       "      <th>tweetLength</th>\n",
       "    </tr>\n",
       "  </thead>\n",
       "  <tbody>\n",
       "    <tr>\n",
       "      <th>0</th>\n",
       "      <td>f558a21dd8e02f2f7d4e5d5c3ea24195</td>\n",
       "      <td>es</td>\n",
       "      <td>muero de amor con milo 🥰 vieron cuando les da ...</td>\n",
       "      <td>0</td>\n",
       "      <td>224</td>\n",
       "    </tr>\n",
       "    <tr>\n",
       "      <th>1</th>\n",
       "      <td>f558a21dd8e02f2f7d4e5d5c3ea24195</td>\n",
       "      <td>es</td>\n",
       "      <td>que dolor de cabeza maldita birra buena noche ...</td>\n",
       "      <td>0</td>\n",
       "      <td>223</td>\n",
       "    </tr>\n",
       "    <tr>\n",
       "      <th>2</th>\n",
       "      <td>f558a21dd8e02f2f7d4e5d5c3ea24195</td>\n",
       "      <td>es</td>\n",
       "      <td>soy yo diciendo que tengo la gota jajsjssjjaja...</td>\n",
       "      <td>0</td>\n",
       "      <td>211</td>\n",
       "    </tr>\n",
       "    <tr>\n",
       "      <th>3</th>\n",
       "      <td>f558a21dd8e02f2f7d4e5d5c3ea24195</td>\n",
       "      <td>es</td>\n",
       "      <td>no se que hacer con mi vida we rt hastag foo q...</td>\n",
       "      <td>0</td>\n",
       "      <td>233</td>\n",
       "    </tr>\n",
       "    <tr>\n",
       "      <th>4</th>\n",
       "      <td>f558a21dd8e02f2f7d4e5d5c3ea24195</td>\n",
       "      <td>es</td>\n",
       "      <td>estuve diciendo duermo 15min mas desde las 8 d...</td>\n",
       "      <td>0</td>\n",
       "      <td>290</td>\n",
       "    </tr>\n",
       "  </tbody>\n",
       "</table>\n",
       "</div>"
      ],
      "text/plain": [
       "                          author_id lang  \\\n",
       "0  f558a21dd8e02f2f7d4e5d5c3ea24195   es   \n",
       "1  f558a21dd8e02f2f7d4e5d5c3ea24195   es   \n",
       "2  f558a21dd8e02f2f7d4e5d5c3ea24195   es   \n",
       "3  f558a21dd8e02f2f7d4e5d5c3ea24195   es   \n",
       "4  f558a21dd8e02f2f7d4e5d5c3ea24195   es   \n",
       "\n",
       "                                         tweet_clean  type  tweetLength  \n",
       "0  muero de amor con milo 🥰 vieron cuando les da ...     0          224  \n",
       "1  que dolor de cabeza maldita birra buena noche ...     0          223  \n",
       "2  soy yo diciendo que tengo la gota jajsjssjjaja...     0          211  \n",
       "3  no se que hacer con mi vida we rt hastag foo q...     0          233  \n",
       "4  estuve diciendo duermo 15min mas desde las 8 d...     0          290  "
      ]
     },
     "execution_count": 24,
     "metadata": {},
     "output_type": "execute_result"
    }
   ],
   "source": [
    "df_es_20_long_text.head()"
   ]
  },
  {
   "cell_type": "code",
   "execution_count": 14,
   "metadata": {},
   "outputs": [
    {
     "name": "stdout",
     "output_type": "stream",
     "text": [
      "---Es---\n",
      "count    2000.000000\n",
      "mean      266.010500\n",
      "std        40.318348\n",
      "min       140.000000\n",
      "25%       240.750000\n",
      "50%       268.000000\n",
      "75%       293.000000\n",
      "max       413.000000\n",
      "Name: tweetLength, dtype: float64\n"
     ]
    }
   ],
   "source": [
    "df_es_20_long_text['tweetLength'] = df_en_20_long_text['tweet_clean'].str.split().map(len)\n",
    "print(\"---Es---\")\n",
    "print(df_es_20_long_text['tweetLength'].describe())"
   ]
  },
  {
   "cell_type": "code",
   "execution_count": 15,
   "metadata": {},
   "outputs": [
    {
     "data": {
      "text/plain": [
       "<function matplotlib.pyplot.show(close=None, block=None)>"
      ]
     },
     "execution_count": 15,
     "metadata": {},
     "output_type": "execute_result"
    },
    {
     "data": {
      "image/png": "[encoded data removed]",
      "text/plain": [
       "<Figure size 432x288 with 1 Axes>"
      ]
     },
     "metadata": {
      "needs_background": "light"
     },
     "output_type": "display_data"
    }
   ],
   "source": [
    "plt.hist(df_es_20_long_text['tweetLength'], 50)\n",
    "plt.show"
   ]
  },
  {
   "cell_type": "code",
   "execution_count": 25,
   "metadata": {},
   "outputs": [
    {
     "data": {
      "text/html": [
       "<div>\n",
       "<style scoped>\n",
       "    .dataframe tbody tr th:only-of-type {\n",
       "        vertical-align: middle;\n",
       "    }\n",
       "\n",
       "    .dataframe tbody tr th {\n",
       "        vertical-align: top;\n",
       "    }\n",
       "\n",
       "    .dataframe thead th {\n",
       "        text-align: right;\n",
       "    }\n",
       "</style>\n",
       "<table border=\"1\" class=\"dataframe\">\n",
       "  <thead>\n",
       "    <tr style=\"text-align: right;\">\n",
       "      <th></th>\n",
       "      <th>author_id</th>\n",
       "      <th>lang</th>\n",
       "      <th>tweet_clean</th>\n",
       "      <th>type</th>\n",
       "    </tr>\n",
       "  </thead>\n",
       "  <tbody>\n",
       "    <tr>\n",
       "      <th>0</th>\n",
       "      <td>99cb2cd23f7cf613d394502d17dedad0</td>\n",
       "      <td>en</td>\n",
       "      <td>first catering 😎 hastag rt hastag vibes with s...</td>\n",
       "      <td>0</td>\n",
       "    </tr>\n",
       "    <tr>\n",
       "      <th>1</th>\n",
       "      <td>99cb2cd23f7cf613d394502d17dedad0</td>\n",
       "      <td>en</td>\n",
       "      <td>rt hastag wine tipsy gt alcohol tipsy rt hasta...</td>\n",
       "      <td>0</td>\n",
       "    </tr>\n",
       "    <tr>\n",
       "      <th>2</th>\n",
       "      <td>99cb2cd23f7cf613d394502d17dedad0</td>\n",
       "      <td>en</td>\n",
       "      <td>rt hastag hastag hastag all of a sudden its as...</td>\n",
       "      <td>0</td>\n",
       "    </tr>\n",
       "    <tr>\n",
       "      <th>3</th>\n",
       "      <td>99cb2cd23f7cf613d394502d17dedad0</td>\n",
       "      <td>en</td>\n",
       "      <td>rt hastag seen a 400 million contract at 033 r...</td>\n",
       "      <td>0</td>\n",
       "    </tr>\n",
       "    <tr>\n",
       "      <th>4</th>\n",
       "      <td>99cb2cd23f7cf613d394502d17dedad0</td>\n",
       "      <td>en</td>\n",
       "      <td>am i the only mf who smoke weed and is so sick...</td>\n",
       "      <td>0</td>\n",
       "    </tr>\n",
       "  </tbody>\n",
       "</table>\n",
       "</div>"
      ],
      "text/plain": [
       "                          author_id lang  \\\n",
       "0  99cb2cd23f7cf613d394502d17dedad0   en   \n",
       "1  99cb2cd23f7cf613d394502d17dedad0   en   \n",
       "2  99cb2cd23f7cf613d394502d17dedad0   en   \n",
       "3  99cb2cd23f7cf613d394502d17dedad0   en   \n",
       "4  99cb2cd23f7cf613d394502d17dedad0   en   \n",
       "\n",
       "                                         tweet_clean  type  \n",
       "0  first catering 😎 hastag rt hastag vibes with s...     0  \n",
       "1  rt hastag wine tipsy gt alcohol tipsy rt hasta...     0  \n",
       "2  rt hastag hastag hastag all of a sudden its as...     0  \n",
       "3  rt hastag seen a 400 million contract at 033 r...     0  \n",
       "4  am i the only mf who smoke weed and is so sick...     0  "
      ]
     },
     "execution_count": 25,
     "metadata": {},
     "output_type": "execute_result"
    }
   ],
   "source": [
    "df_en_20_long_text.head()"
   ]
  },
  {
   "cell_type": "code",
   "execution_count": 26,
   "metadata": {},
   "outputs": [
    {
     "name": "stdout",
     "output_type": "stream",
     "text": [
      "---En---\n",
      "count    2000.000000\n",
      "mean      258.480000\n",
      "std        42.085011\n",
      "min       128.000000\n",
      "25%       229.000000\n",
      "50%       259.000000\n",
      "75%       286.000000\n",
      "max       459.000000\n",
      "Name: tweetLength, dtype: float64\n"
     ]
    }
   ],
   "source": [
    "df_en_20_long_text['tweetLength'] = df_en_20_long_text['tweet_clean'].str.split().map(len)\n",
    "print(\"---En---\")\n",
    "print(df_en_20_long_text['tweetLength'].describe())"
   ]
  },
  {
   "cell_type": "code",
   "execution_count": 27,
   "metadata": {},
   "outputs": [
    {
     "data": {
      "text/plain": [
       "<function matplotlib.pyplot.show(close=None, block=None)>"
      ]
     },
     "execution_count": 27,
     "metadata": {},
     "output_type": "execute_result"
    },
    {
     "data": {
      "image/png": "[encoded data removed]",
      "text/plain": [
       "<Figure size 432x288 with 1 Axes>"
      ]
     },
     "metadata": {
      "needs_background": "light"
     },
     "output_type": "display_data"
    }
   ],
   "source": [
    "plt.hist(df_en_20_long_text['tweetLength'], 50)\n",
    "plt.show"
   ]
  },
  {
   "cell_type": "markdown",
   "metadata": {},
   "source": [
    "### Prepare data"
   ]
  },
  {
   "cell_type": "markdown",
   "metadata": {},
   "source": [
    "#### Individual"
   ]
  },
  {
   "cell_type": "code",
   "execution_count": 7,
   "metadata": {},
   "outputs": [],
   "source": [
    "# Spanish individual tweets\n",
    "\n",
    "df_es = create_dataframe(esDirectory)\n",
    "df_es['tweet_clean'] = df_es.tweet.apply(clean_text_es)"
   ]
  },
  {
   "cell_type": "code",
   "execution_count": 7,
   "metadata": {},
   "outputs": [],
   "source": [
    "x_train, y_train, x_valid, y_valid = get_data_from_df(df_es)\n",
    "\n",
    "df_es_test = create_dataframe(esTestDirectory)\n",
    "df_es_test['tweet_clean'] = df_es_test.tweet.apply(clean_text_es)\n",
    "x_test = df_es_test['tweet_clean'].values\n",
    "\n",
    "es_cml = (x_train, y_train,\n",
    "          x_valid, y_valid,\n",
    "          x_test)\n",
    "\n",
    "pickle_file = open('es_cml.pickle', 'wb')\n",
    "pickle.dump(es_cml, pickle_file)\n",
    "pickle_file.close()"
   ]
  },
  {
   "cell_type": "code",
   "execution_count": 33,
   "metadata": {
    "id": "MyMt0E2VBNvg"
   },
   "outputs": [],
   "source": [
    "x_train, y_train, x_valid, y_valid = get_data_from_df(df_es)\n",
    "\n",
    "corpus_es = np.concatenate((x_train, x_valid), axis=None)\n",
    "embedding_matrix = create_embedding_matrix(corpus_es, word_embedding_size=300)\n",
    "\n",
    "df_es_test = create_dataframe(esTestDirectory)\n",
    "df_es_test['tweet_clean'] = df_es_test.tweet.apply(clean_text_es)\n",
    "x_test = df_es_test['tweet_clean'].values\n",
    "\n",
    "train_padded, valid_padded, test_padded = to_int_seq(x_train, x_valid, x_test, max_length=15)\n",
    "\n",
    "# GUARDAR AQUI\n",
    "# embedding_matrix\n",
    "# train_padded, y_train\n",
    "# valid_padded, y_valid\n",
    "# test_padded\n",
    "\n",
    "es_indv = (embedding_matrix,\n",
    "           train_padded, y_train,\n",
    "           valid_padded, y_valid,\n",
    "           test_padded)\n",
    "\n",
    "pickle_file = open('es_indv.pickle', 'wb')\n",
    "pickle.dump(es_indv, pickle_file)\n",
    "pickle_file.close()"
   ]
  },
  {
   "cell_type": "code",
   "execution_count": 8,
   "metadata": {},
   "outputs": [],
   "source": [
    "# English individual tweets\n",
    "\n",
    "df_en = create_dataframe(enDirectory)\n",
    "df_en['tweet_clean'] = df_en.tweet.apply(clean_text_en)"
   ]
  },
  {
   "cell_type": "code",
   "execution_count": 9,
   "metadata": {},
   "outputs": [],
   "source": [
    "x_train, y_train, x_valid, y_valid = get_data_from_df(df_en)\n",
    "\n",
    "df_es_test = create_dataframe(esTestDirectory)\n",
    "df_es_test['tweet_clean'] = df_es_test.tweet.apply(clean_text_es)\n",
    "x_test = df_es_test['tweet_clean'].values\n",
    "\n",
    "en_cml = (x_train, y_train,\n",
    "          x_valid, y_valid,\n",
    "          x_test)\n",
    "\n",
    "pickle_file = open('en_cml.pickle', 'wb')\n",
    "pickle.dump(en_cml, pickle_file)\n",
    "pickle_file.close()"
   ]
  },
  {
   "cell_type": "code",
   "execution_count": 34,
   "metadata": {},
   "outputs": [],
   "source": [
    "x_train, y_train, x_valid, y_valid = get_data_from_df(df_en)\n",
    "\n",
    "corpus_en = np.concatenate((x_train, x_valid), axis=None)\n",
    "embedding_matrix = create_embedding_matrix(corpus_en, word_embedding_size=300)\n",
    "\n",
    "df_en_test = create_dataframe(enTestDirectory)\n",
    "df_en_test['tweet_clean'] = df_en_test.tweet.apply(clean_text_en)\n",
    "x_test = df_en_test['tweet_clean'].values\n",
    "\n",
    "train_padded, valid_padded, test_padded = to_int_seq(x_train, x_valid, x_test, max_length=15)\n",
    "\n",
    "# GUARDAR AQUI\n",
    "# embedding_matrix\n",
    "# train_padded, y_train\n",
    "# valid_padded, y_valid\n",
    "# test_padded\n",
    "\n",
    "en_indv = (embedding_matrix,\n",
    "           train_padded, y_train,\n",
    "           valid_padded, y_valid,\n",
    "           test_padded)\n",
    "\n",
    "pickle_file = open('en_indv.pickle', 'wb')\n",
    "pickle.dump(en_indv, pickle_file)\n",
    "pickle_file.close()"
   ]
  },
  {
   "cell_type": "code",
   "execution_count": null,
   "metadata": {},
   "outputs": [],
   "source": []
  },
  {
   "cell_type": "markdown",
   "metadata": {},
   "source": [
    "#### 20 joined tweets"
   ]
  },
  {
   "cell_type": "code",
   "execution_count": 9,
   "metadata": {},
   "outputs": [],
   "source": [
    "# Spanish 20 joined tweets\n",
    "\n",
    "df_es_20_long_text = join_tweets(df_es, 20)"
   ]
  },
  {
   "cell_type": "code",
   "execution_count": null,
   "metadata": {},
   "outputs": [],
   "source": [
    "x_train, y_train, x_valid, y_valid = get_data_from_df(df_es_20_long_text)\n",
    "\n",
    "df_es_20_long_text = join_tweets_test(df_es_test, 20)\n",
    "x_test = df_es_20_long_text['tweet_clean'].values\n",
    "\n",
    "train_padded, valid_padded, test_padded = to_int_seq(x_train, x_valid, x_test, max_length=250)\n",
    "\n",
    "# GUARDAR AQUI\n",
    "# embedding_matrix\n",
    "# train_padded, y_train\n",
    "# valid_padded, y_valid\n",
    "# test_padded\n",
    "\n",
    "es_20 = (#embedding_matrix,\n",
    "           train_padded, y_train,\n",
    "           valid_padded, y_valid,\n",
    "           test_padded)\n",
    "\n",
    "pickle_file = open('es_20.pickle', 'wb')\n",
    "pickle.dump(es_20, pickle_file)\n",
    "pickle_file.close()"
   ]
  },
  {
   "cell_type": "code",
   "execution_count": 23,
   "metadata": {},
   "outputs": [],
   "source": [
    "# English 20 joined tweets\n",
    "\n",
    "df_en_20_long_text = join_tweets(df_en, 20)"
   ]
  },
  {
   "cell_type": "code",
   "execution_count": 38,
   "metadata": {},
   "outputs": [],
   "source": [
    "x_train, y_train, x_valid, y_valid = get_data_from_df(df_en_20_long_text)\n",
    "\n",
    "df_en_20_long_text = join_tweets_test(df_en_test, 20)\n",
    "x_test = df_en_20_long_text['tweet_clean'].values\n",
    "\n",
    "train_padded, valid_padded, test_padded = to_int_seq(x_train, x_valid, x_test, max_length=250)\n",
    "\n",
    "# GUARDAR AQUI\n",
    "# embedding_matrix\n",
    "# train_padded, y_train\n",
    "# valid_padded, y_valid\n",
    "# test_padded\n",
    "\n",
    "en_20 = (#embedding_matrix,\n",
    "           train_padded, y_train,\n",
    "           valid_padded, y_valid,\n",
    "           test_padded)\n",
    "\n",
    "pickle_file = open('en_20.pickle', 'wb')\n",
    "pickle.dump(en_20, pickle_file)\n",
    "pickle_file.close()"
   ]
  },
  {
   "cell_type": "code",
   "execution_count": null,
   "metadata": {},
   "outputs": [],
   "source": []
  },
  {
   "cell_type": "markdown",
   "metadata": {},
   "source": [
    "#### Bert"
   ]
  },
  {
   "cell_type": "code",
   "execution_count": 13,
   "metadata": {},
   "outputs": [],
   "source": [
    "# Spanish individual tweets\n",
    "\n",
    "df_es = create_dataframe(esDirectory)\n",
    "df_es['tweet_clean'] = df_es.tweet.apply(clean_text_es)"
   ]
  },
  {
   "cell_type": "code",
   "execution_count": 27,
   "metadata": {},
   "outputs": [],
   "source": [
    "x_train, y_train, x_valid, y_valid = get_data_from_df(df_es)\n",
    "\n",
    "df_es_test = create_dataframe(esTestDirectory)\n",
    "df_es_test['tweet_clean'] = df_es_test.tweet.apply(clean_text_es)\n",
    "x_test = df_es_test['tweet_clean'].values"
   ]
  },
  {
   "cell_type": "code",
   "execution_count": 34,
   "metadata": {},
   "outputs": [
    {
     "name": "stderr",
     "output_type": "stream",
     "text": [
      "Truncation was not explicitly activated but `max_length` is provided a specific value, please use `truncation=True` to explicitly truncate examples to max length. Defaulting to 'longest_first' truncation strategy. If you encode pairs of sequences (GLUE-style) with the tokenizer you can select this strategy more precisely by providing a specific strategy to `truncation`.\n",
      "Truncation was not explicitly activated but `max_length` is provided a specific value, please use `truncation=True` to explicitly truncate examples to max length. Defaulting to 'longest_first' truncation strategy. If you encode pairs of sequences (GLUE-style) with the tokenizer you can select this strategy more precisely by providing a specific strategy to `truncation`.\n",
      "Truncation was not explicitly activated but `max_length` is provided a specific value, please use `truncation=True` to explicitly truncate examples to max length. Defaulting to 'longest_first' truncation strategy. If you encode pairs of sequences (GLUE-style) with the tokenizer you can select this strategy more precisely by providing a specific strategy to `truncation`.\n"
     ]
    }
   ],
   "source": [
    "train_padded, train_mask = prepare_data_bert(x_train, 15)\n",
    "valid_padded, valid_mask = prepare_data_bert(x_valid, 15)\n",
    "test_padded, test_mask = prepare_data_bert(x_test, 15)\n",
    "\n",
    "es_indv_bert = (train_padded, train_mask, y_train,\n",
    "                valid_padded, valid_mask, y_valid,\n",
    "                test_padded, test_mask)\n",
    "\n",
    "pickle_file = open('es_indv_bert.pickle', 'wb')\n",
    "pickle.dump(es_indv_bert, pickle_file)\n",
    "pickle_file.close()"
   ]
  },
  {
   "cell_type": "code",
   "execution_count": 37,
   "metadata": {},
   "outputs": [],
   "source": [
    "df_es_20_long_text = join_tweets(df_es, 20)\n",
    "x_train, y_train, x_valid, y_valid = get_data_from_df(df_es_20_long_text)\n",
    "\n",
    "df_es_20_long_text = join_tweets_test(df_es_test, 20)\n",
    "x_test = df_es_20_long_text['tweet_clean'].values"
   ]
  },
  {
   "cell_type": "code",
   "execution_count": 38,
   "metadata": {},
   "outputs": [
    {
     "name": "stderr",
     "output_type": "stream",
     "text": [
      "Truncation was not explicitly activated but `max_length` is provided a specific value, please use `truncation=True` to explicitly truncate examples to max length. Defaulting to 'longest_first' truncation strategy. If you encode pairs of sequences (GLUE-style) with the tokenizer you can select this strategy more precisely by providing a specific strategy to `truncation`.\n",
      "/home/david/.local/lib/python3.6/site-packages/transformers/tokenization_utils_base.py:2079: FutureWarning: The `pad_to_max_length` argument is deprecated and will be removed in a future version, use `padding=True` or `padding='longest'` to pad to the longest sequence in the batch, or use `padding='max_length'` to pad to a max length. In this case, you can give a specific length with `max_length` (e.g. `max_length=45`) or leave max_length to None to pad to the maximal input size of the model (e.g. 512 for Bert).\n",
      "  FutureWarning,\n",
      "Truncation was not explicitly activated but `max_length` is provided a specific value, please use `truncation=True` to explicitly truncate examples to max length. Defaulting to 'longest_first' truncation strategy. If you encode pairs of sequences (GLUE-style) with the tokenizer you can select this strategy more precisely by providing a specific strategy to `truncation`.\n",
      "Truncation was not explicitly activated but `max_length` is provided a specific value, please use `truncation=True` to explicitly truncate examples to max length. Defaulting to 'longest_first' truncation strategy. If you encode pairs of sequences (GLUE-style) with the tokenizer you can select this strategy more precisely by providing a specific strategy to `truncation`.\n"
     ]
    }
   ],
   "source": [
    "train_padded, train_mask = prepare_data_bert(x_train, 250)\n",
    "valid_padded, valid_mask = prepare_data_bert(x_valid, 250)\n",
    "test_padded, test_mask = prepare_data_bert(x_test, 250)\n",
    "\n",
    "es_20_bert = (train_padded, train_mask, y_train,\n",
    "              valid_padded, valid_mask, y_valid,\n",
    "              test_padded, test_mask)\n",
    "\n",
    "pickle_file = open('es_20_bert.pickle', 'wb')\n",
    "pickle.dump(es_20_bert, pickle_file)\n",
    "pickle_file.close()"
   ]
  },
  {
   "cell_type": "markdown",
   "metadata": {},
   "source": [
    "#### Test predictions"
   ]
  },
  {
   "cell_type": "code",
   "execution_count": 23,
   "metadata": {},
   "outputs": [],
   "source": [
    "# Spanish individual tweets\n",
    "\n",
    "df_es = create_dataframe(esDirectory)\n",
    "df_es['tweet_clean'] = df_es.tweet.apply(clean_text_es)"
   ]
  },
  {
   "cell_type": "code",
   "execution_count": 24,
   "metadata": {},
   "outputs": [],
   "source": [
    "x_train, y_train, x_valid, y_valid = get_data_from_df(df_es)\n",
    "\n",
    "df_es_test = create_dataframe(esTestDirectory)\n",
    "df_es_test['tweet_clean'] = df_es_test.tweet.apply(clean_text_es)\n",
    "\n",
    "test_id_es, x_test_es = df_es_test['author_id'].values, df_es_test['tweet_clean'].values"
   ]
  },
  {
   "cell_type": "code",
   "execution_count": 32,
   "metadata": {},
   "outputs": [],
   "source": [
    "# Spanish 20 joined tweets\n",
    "\n",
    "df_es_20_long_text = join_tweets(df_es, 20)"
   ]
  },
  {
   "cell_type": "code",
   "execution_count": 35,
   "metadata": {},
   "outputs": [],
   "source": [
    "x_train, y_train, x_valid, y_valid = get_data_from_df(df_es_20_long_text)\n",
    "\n",
    "df_es_20_long_text = join_tweets_test(df_es_test, 20)\n",
    "x_test = df_es_20_long_text['tweet_clean'].values\n",
    "\n",
    "# Get 1 every 20 ids or groupby?\n",
    "\n",
    "_, _, test_padded = to_int_seq(x_train, x_valid, x_test, max_length=250)"
   ]
  },
  {
   "cell_type": "code",
   "execution_count": 44,
   "metadata": {},
   "outputs": [],
   "source": [
    "test_id = []\n",
    "for i in range(0, len(test_id_es), 200\n",
    "    test_id.append(test_id_es[i])"
   ]
  },
  {
   "cell_type": "code",
   "execution_count": 48,
   "metadata": {},
   "outputs": [],
   "source": [
    "test_es_20 = (test_id,\n",
    "              test_padded)\n",
    "\n",
    "pickle_file = open('test_es_20.pickle', 'wb')\n",
    "pickle.dump(test_es_20, pickle_file)\n",
    "pickle_file.close()"
   ]
  },
  {
   "cell_type": "code",
   "execution_count": null,
   "metadata": {},
   "outputs": [],
   "source": []
  },
  {
   "cell_type": "code",
   "execution_count": null,
   "metadata": {},
   "outputs": [],
   "source": []
  },
  {
   "cell_type": "code",
   "execution_count": 50,
   "metadata": {},
   "outputs": [],
   "source": [
    "# English individual tweets\n",
    "\n",
    "df_en = create_dataframe(enDirectory)\n",
    "df_en['tweet_clean'] = df_en.tweet.apply(clean_text_en)\n",
    "\n",
    "df_en_test = create_dataframe(enTestDirectory)\n",
    "df_en_test['tweet_clean'] = df_en_test.tweet.apply(clean_text_en)\n",
    "\n",
    "test_id_en, x_test_en = df_en_test['author_id'].values, df_en_test['tweet_clean'].values\n",
    "\n",
    "# Spanish 20 joined tweets\n",
    "df_en_20_long_text = join_tweets(df_en, 20)\n",
    "\n",
    "x_train, y_train, x_valid, y_valid = get_data_from_df(df_en_20_long_text)\n",
    "\n",
    "df_en_20_long_text = join_tweets_test(df_en_test, 20)\n",
    "x_test = df_en_20_long_text['tweet_clean'].values\n",
    "\n",
    "_, _, test_padded = to_int_seq(x_train, x_valid, x_test, max_length=250)\n",
    "\n",
    "test_id = []\n",
    "for i in range(0, len(test_id_en), 200):\n",
    "    test_id.append(test_id_en[i])\n",
    "    \n",
    "test_en_20 = (test_id,\n",
    "              test_padded)\n",
    "\n",
    "pickle_file = open('test_en_20.pickle', 'wb')\n",
    "pickle.dump(test_en_20, pickle_file)\n",
    "pickle_file.close()"
   ]
  },
  {
   "cell_type": "code",
   "execution_count": 58,
   "metadata": {},
   "outputs": [
    {
     "data": {
      "text/plain": [
       "'f8e9b6073d2fcbf9d2de3df07c62d86e'"
      ]
     },
     "execution_count": 58,
     "metadata": {},
     "output_type": "execute_result"
    }
   ],
   "source": [
    "test_id_en[200]"
   ]
  },
  {
   "cell_type": "code",
   "execution_count": null,
   "metadata": {},
   "outputs": [],
   "source": []
  }
 ],
 "metadata": {
  "colab": {
   "collapsed_sections": [],
   "name": "HateProfiling.ipynb",
   "provenance": []
  },
  "kernelspec": {
   "display_name": "Python 3",
   "language": "python",
   "name": "python3"
  },
  "language_info": {
   "codemirror_mode": {
    "name": "ipython",
    "version": 3
   },
   "file_extension": ".py",
   "mimetype": "text/x-python",
   "name": "python",
   "nbconvert_exporter": "python",
   "pygments_lexer": "ipython3",
   "version": "3.6.9"
  }
 },
 "nbformat": 4,
 "nbformat_minor": 1
}
