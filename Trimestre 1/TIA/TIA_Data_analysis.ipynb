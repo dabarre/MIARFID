{
 "cells": [
  {
   "cell_type": "code",
   "execution_count": 12,
   "metadata": {},
   "outputs": [],
   "source": [
    "import pandas as pd\n",
    "import matplotlib.pyplot as plt"
   ]
  },
  {
   "cell_type": "code",
   "execution_count": 14,
   "metadata": {},
   "outputs": [],
   "source": [
    "ag_12_1 = pd.read_csv(\"capas_aislantes/AG_12_1.tsv\", sep='\\t', header=0)\n",
    "ag_12_2 = pd.read_csv(\"capas_aislantes/AG_12_2.tsv\", sep='\\t', header=0)\n",
    "sa_12_1 = pd.read_csv(\"capas_aislantes/SA_12_1.tsv\", sep='\\t', header=0)\n",
    "sa_12_2 = pd.read_csv(\"capas_aislantes/SA_12_2.tsv\", sep='\\t', header=0)\n",
    "\n",
    "ag_15_1 = pd.read_csv(\"capas_aislantes/AG_15_1.tsv\", sep='\\t', header=0)\n",
    "ag_15_2 = pd.read_csv(\"capas_aislantes/AG_15_2.tsv\", sep='\\t', header=0)\n",
    "sa_15_1 = pd.read_csv(\"capas_aislantes/SA_15_1.tsv\", sep='\\t', header=0)\n",
    "sa_15_2 = pd.read_csv(\"capas_aislantes/SA_15_2.tsv\", sep='\\t', header=0)\n",
    "\n",
    "ag_20_1 = pd.read_csv(\"capas_aislantes/AG_20_1.tsv\", sep='\\t', header=0)\n",
    "ag_20_2 = pd.read_csv(\"capas_aislantes/AG_20_2.tsv\", sep='\\t', header=0)\n",
    "sa_20_1 = pd.read_csv(\"capas_aislantes/SA_20_1.tsv\", sep='\\t', header=0)\n",
    "sa_20_2 = pd.read_csv(\"capas_aislantes/SA_20_2.tsv\", sep='\\t', header=0)"
   ]
  },
  {
   "cell_type": "code",
   "execution_count": 15,
   "metadata": {},
   "outputs": [
    {
     "data": {
      "text/html": [
       "<div>\n",
       "<style scoped>\n",
       "    .dataframe tbody tr th:only-of-type {\n",
       "        vertical-align: middle;\n",
       "    }\n",
       "\n",
       "    .dataframe tbody tr th {\n",
       "        vertical-align: top;\n",
       "    }\n",
       "\n",
       "    .dataframe thead th {\n",
       "        text-align: right;\n",
       "    }\n",
       "</style>\n",
       "<table border=\"1\" class=\"dataframe\">\n",
       "  <thead>\n",
       "    <tr style=\"text-align: right;\">\n",
       "      <th></th>\n",
       "      <th>iteration</th>\n",
       "      <th>evaluations</th>\n",
       "      <th>runtime[s]</th>\n",
       "      <th>MAX_Aislamiento[MAX]</th>\n",
       "    </tr>\n",
       "  </thead>\n",
       "  <tbody>\n",
       "    <tr>\n",
       "      <th>0</th>\n",
       "      <td>1</td>\n",
       "      <td>25</td>\n",
       "      <td>0.004</td>\n",
       "      <td>468</td>\n",
       "    </tr>\n",
       "    <tr>\n",
       "      <th>1</th>\n",
       "      <td>2</td>\n",
       "      <td>50</td>\n",
       "      <td>0.007</td>\n",
       "      <td>468</td>\n",
       "    </tr>\n",
       "    <tr>\n",
       "      <th>2</th>\n",
       "      <td>3</td>\n",
       "      <td>75</td>\n",
       "      <td>0.009</td>\n",
       "      <td>468</td>\n",
       "    </tr>\n",
       "    <tr>\n",
       "      <th>3</th>\n",
       "      <td>4</td>\n",
       "      <td>100</td>\n",
       "      <td>0.016</td>\n",
       "      <td>483</td>\n",
       "    </tr>\n",
       "    <tr>\n",
       "      <th>4</th>\n",
       "      <td>5</td>\n",
       "      <td>125</td>\n",
       "      <td>0.031</td>\n",
       "      <td>483</td>\n",
       "    </tr>\n",
       "    <tr>\n",
       "      <th>...</th>\n",
       "      <td>...</td>\n",
       "      <td>...</td>\n",
       "      <td>...</td>\n",
       "      <td>...</td>\n",
       "    </tr>\n",
       "    <tr>\n",
       "      <th>99995</th>\n",
       "      <td>99996</td>\n",
       "      <td>2499900</td>\n",
       "      <td>371.727</td>\n",
       "      <td>628</td>\n",
       "    </tr>\n",
       "    <tr>\n",
       "      <th>99996</th>\n",
       "      <td>99997</td>\n",
       "      <td>2499925</td>\n",
       "      <td>371.729</td>\n",
       "      <td>628</td>\n",
       "    </tr>\n",
       "    <tr>\n",
       "      <th>99997</th>\n",
       "      <td>99998</td>\n",
       "      <td>2499950</td>\n",
       "      <td>371.732</td>\n",
       "      <td>628</td>\n",
       "    </tr>\n",
       "    <tr>\n",
       "      <th>99998</th>\n",
       "      <td>99999</td>\n",
       "      <td>2499975</td>\n",
       "      <td>371.735</td>\n",
       "      <td>628</td>\n",
       "    </tr>\n",
       "    <tr>\n",
       "      <th>99999</th>\n",
       "      <td>100000</td>\n",
       "      <td>2500000</td>\n",
       "      <td>371.737</td>\n",
       "      <td>628</td>\n",
       "    </tr>\n",
       "  </tbody>\n",
       "</table>\n",
       "<p>100000 rows × 4 columns</p>\n",
       "</div>"
      ],
      "text/plain": [
       "       iteration  evaluations  runtime[s]  MAX_Aislamiento[MAX]\n",
       "0              1           25       0.004                   468\n",
       "1              2           50       0.007                   468\n",
       "2              3           75       0.009                   468\n",
       "3              4          100       0.016                   483\n",
       "4              5          125       0.031                   483\n",
       "...          ...          ...         ...                   ...\n",
       "99995      99996      2499900     371.727                   628\n",
       "99996      99997      2499925     371.729                   628\n",
       "99997      99998      2499950     371.732                   628\n",
       "99998      99999      2499975     371.735                   628\n",
       "99999     100000      2500000     371.737                   628\n",
       "\n",
       "[100000 rows x 4 columns]"
      ]
     },
     "execution_count": 15,
     "metadata": {},
     "output_type": "execute_result"
    }
   ],
   "source": [
    "ag_12_1"
   ]
  },
  {
   "cell_type": "code",
   "execution_count": 26,
   "metadata": {},
   "outputs": [
    {
     "data": {
      "text/plain": [
       "Index(['iteration', 'evaluations', 'runtime[s]', 'MAX_Aislamiento[MAX]'], dtype='object')"
      ]
     },
     "execution_count": 26,
     "metadata": {},
     "output_type": "execute_result"
    }
   ],
   "source": [
    "ag_12_1.columns"
   ]
  },
  {
   "cell_type": "code",
   "execution_count": 66,
   "metadata": {},
   "outputs": [
    {
     "data": {
      "image/png": "[encoded data removed]",
      "text/plain": [
       "<Figure size 432x288 with 1 Axes>"
      ]
     },
     "metadata": {
      "needs_background": "light"
     },
     "output_type": "display_data"
    }
   ],
   "source": [
    "plt.title('Aislamiento vs Tiempo 12 capas')\n",
    "plt.xlabel('Tiempo de computo (s)')\n",
    "plt.ylabel('Aislamiento')\n",
    "\n",
    "maxTime = 1000\n",
    "\n",
    "x = ag_12_1.loc[ag_12_1['runtime[s]']<=maxTime]['runtime[s]']\n",
    "y = ag_12_1.loc[ag_12_1['runtime[s]']<=maxTime]['MAX_Aislamiento[MAX]']\n",
    "plt.plot(x, y, label=\"AG_0.95\")\n",
    "\n",
    "x = ag_12_2.loc[ag_12_2['runtime[s]']<=maxTime]['runtime[s]']\n",
    "y = ag_12_2.loc[ag_12_2['runtime[s]']<=maxTime]['MAX_Aislamiento[MAX]']\n",
    "plt.plot(x, y, label=\"AG_0.45\")\n",
    "\n",
    "x = sa_12_1.loc[sa_12_1['runtime[s]']<=maxTime]['runtime[s]']\n",
    "y = sa_12_1.loc[sa_12_1['runtime[s]']<=maxTime]['MAX_Aislamiento[MAX]']\n",
    "plt.plot(x, y, label=\"ES_10\")\n",
    "\n",
    "x = sa_12_2.loc[sa_12_2['runtime[s]']<=maxTime]['runtime[s]']\n",
    "y = sa_12_2.loc[sa_12_2['runtime[s]']<=maxTime]['MAX_Aislamiento[MAX]']\n",
    "plt.plot(x, y, label=\"ES_100\")\n",
    "\n",
    "plt.legend()\n",
    "plt.show()"
   ]
  },
  {
   "cell_type": "code",
   "execution_count": 67,
   "metadata": {
    "scrolled": true
   },
   "outputs": [
    {
     "data": {
      "image/png": "[encoded data removed]",
      "text/plain": [
       "<Figure size 432x288 with 1 Axes>"
      ]
     },
     "metadata": {
      "needs_background": "light"
     },
     "output_type": "display_data"
    }
   ],
   "source": [
    "plt.title('Aislamiento vs Tiempo 15 capas')\n",
    "plt.xlabel('Tiempo de computo (s)')\n",
    "plt.ylabel('Aislamiento')\n",
    "\n",
    "maxTime = 1000\n",
    "\n",
    "x = ag_15_1.loc[ag_15_1['runtime[s]']<=maxTime]['runtime[s]']\n",
    "y = ag_15_1.loc[ag_15_1['runtime[s]']<=maxTime]['MAX_Aislamiento[MAX]']\n",
    "plt.plot(x, y, label=\"AG_0.95\")\n",
    "\n",
    "x = ag_15_2.loc[ag_15_2['runtime[s]']<=maxTime]['runtime[s]']\n",
    "y = ag_15_2.loc[ag_15_2['runtime[s]']<=maxTime]['MAX_Aislamiento[MAX]']\n",
    "plt.plot(x, y, label=\"AG_0.45\")\n",
    "\n",
    "x = sa_15_1.loc[sa_15_1['runtime[s]']<=maxTime]['runtime[s]']\n",
    "y = sa_15_1.loc[sa_15_1['runtime[s]']<=maxTime]['MAX_Aislamiento[MAX]']\n",
    "plt.plot(x, y, label=\"ES_10\")\n",
    "\n",
    "x = sa_15_2.loc[sa_15_2['runtime[s]']<=maxTime]['runtime[s]']\n",
    "y = sa_15_2.loc[sa_15_2['runtime[s]']<=maxTime]['MAX_Aislamiento[MAX]']\n",
    "plt.plot(x, y, label=\"ES_100\")\n",
    "\n",
    "plt.legend()\n",
    "plt.show()"
   ]
  },
  {
   "cell_type": "code",
   "execution_count": 68,
   "metadata": {},
   "outputs": [
    {
     "data": {
      "image/png": "[encoded data removed]",
      "text/plain": [
       "<Figure size 432x288 with 1 Axes>"
      ]
     },
     "metadata": {
      "needs_background": "light"
     },
     "output_type": "display_data"
    }
   ],
   "source": [
    "plt.title('Aislamiento vs Tiempo 20 capas')\n",
    "plt.xlabel('Tiempo de computo (s)')\n",
    "plt.ylabel('Aislamiento')\n",
    "\n",
    "maxTime = 1000\n",
    "\n",
    "x = ag_20_1.loc[ag_20_1['runtime[s]']<=maxTime]['runtime[s]']\n",
    "y = ag_20_1.loc[ag_20_1['runtime[s]']<=maxTime]['MAX_Aislamiento[MAX]']\n",
    "plt.plot(x, y, label=\"AG_0.95\")\n",
    "\n",
    "x = ag_20_2.loc[ag_20_2['runtime[s]']<=maxTime]['runtime[s]']\n",
    "y = ag_20_2.loc[ag_20_2['runtime[s]']<=maxTime]['MAX_Aislamiento[MAX]']\n",
    "plt.plot(x, y, label=\"AG_0.45\")\n",
    "\n",
    "x = sa_20_1.loc[sa_20_1['runtime[s]']<=maxTime]['runtime[s]']\n",
    "y = sa_20_1.loc[sa_20_1['runtime[s]']<=maxTime]['MAX_Aislamiento[MAX]']\n",
    "plt.plot(x, y, label=\"ES_10\")\n",
    "\n",
    "x = sa_20_2.loc[sa_20_2['runtime[s]']<=maxTime]['runtime[s]']\n",
    "y = sa_20_2.loc[sa_20_2['runtime[s]']<=maxTime]['MAX_Aislamiento[MAX]']\n",
    "plt.plot(x, y, label=\"ES_100\")\n",
    "\n",
    "plt.legend()\n",
    "plt.show()"
   ]
  },
  {
   "cell_type": "code",
   "execution_count": 41,
   "metadata": {},
   "outputs": [
    {
     "data": {
      "text/plain": [
       "0     350\n",
       "1     350\n",
       "2     382\n",
       "3     382\n",
       "4     414\n",
       "     ... \n",
       "95    518\n",
       "96    518\n",
       "97    518\n",
       "98    518\n",
       "99    518\n",
       "Name: MAX_Aislamiento[MAX], Length: 100, dtype: int64"
      ]
     },
     "execution_count": 41,
     "metadata": {},
     "output_type": "execute_result"
    }
   ],
   "source": [
    "sa_12_2.loc[sa_12_2.iteration<=100]['MAX_Aislamiento[MAX]']"
   ]
  },
  {
   "cell_type": "code",
   "execution_count": 71,
   "metadata": {},
   "outputs": [
    {
     "data": {
      "text/plain": [
       "0          0.016\n",
       "1          0.020\n",
       "2          0.022\n",
       "3          0.025\n",
       "4          0.026\n",
       "          ...   \n",
       "99995    104.256\n",
       "99996    104.257\n",
       "99997    104.258\n",
       "99998    104.259\n",
       "99999    104.260\n",
       "Name: runtime[s], Length: 100000, dtype: float64"
      ]
     },
     "execution_count": 71,
     "metadata": {},
     "output_type": "execute_result"
    }
   ],
   "source": [
    "sa_20_1['runtime[s]']"
   ]
  },
  {
   "cell_type": "code",
   "execution_count": 74,
   "metadata": {},
   "outputs": [
    {
     "data": {
      "text/plain": [
       "<bound method Series.max of 0        437\n",
       "1        461\n",
       "2        514\n",
       "3        514\n",
       "4        514\n",
       "        ... \n",
       "99995    650\n",
       "99996    650\n",
       "99997    650\n",
       "99998    650\n",
       "99999    650\n",
       "Name: MAX_Aislamiento[MAX], Length: 100000, dtype: int64>"
      ]
     },
     "execution_count": 74,
     "metadata": {},
     "output_type": "execute_result"
    }
   ],
   "source": []
  },
  {
   "cell_type": "code",
   "execution_count": 98,
   "metadata": {},
   "outputs": [
    {
     "data": {
      "text/html": [
       "<div>\n",
       "<style scoped>\n",
       "    .dataframe tbody tr th:only-of-type {\n",
       "        vertical-align: middle;\n",
       "    }\n",
       "\n",
       "    .dataframe tbody tr th {\n",
       "        vertical-align: top;\n",
       "    }\n",
       "\n",
       "    .dataframe thead th {\n",
       "        text-align: right;\n",
       "    }\n",
       "</style>\n",
       "<table border=\"1\" class=\"dataframe\">\n",
       "  <thead>\n",
       "    <tr style=\"text-align: right;\">\n",
       "      <th></th>\n",
       "      <th>iteration</th>\n",
       "      <th>evaluations</th>\n",
       "      <th>runtime[s]</th>\n",
       "      <th>MAX_Aislamiento[MAX]</th>\n",
       "    </tr>\n",
       "  </thead>\n",
       "  <tbody>\n",
       "    <tr>\n",
       "      <th>55001</th>\n",
       "      <td>55002</td>\n",
       "      <td>1375050</td>\n",
       "      <td>139.979</td>\n",
       "      <td>1426</td>\n",
       "    </tr>\n",
       "    <tr>\n",
       "      <th>55002</th>\n",
       "      <td>55003</td>\n",
       "      <td>1375075</td>\n",
       "      <td>139.982</td>\n",
       "      <td>1426</td>\n",
       "    </tr>\n",
       "    <tr>\n",
       "      <th>55003</th>\n",
       "      <td>55004</td>\n",
       "      <td>1375100</td>\n",
       "      <td>139.984</td>\n",
       "      <td>1426</td>\n",
       "    </tr>\n",
       "    <tr>\n",
       "      <th>55004</th>\n",
       "      <td>55005</td>\n",
       "      <td>1375125</td>\n",
       "      <td>139.987</td>\n",
       "      <td>1426</td>\n",
       "    </tr>\n",
       "    <tr>\n",
       "      <th>55005</th>\n",
       "      <td>55006</td>\n",
       "      <td>1375150</td>\n",
       "      <td>139.989</td>\n",
       "      <td>1426</td>\n",
       "    </tr>\n",
       "    <tr>\n",
       "      <th>...</th>\n",
       "      <td>...</td>\n",
       "      <td>...</td>\n",
       "      <td>...</td>\n",
       "      <td>...</td>\n",
       "    </tr>\n",
       "    <tr>\n",
       "      <th>99995</th>\n",
       "      <td>99996</td>\n",
       "      <td>2499900</td>\n",
       "      <td>264.487</td>\n",
       "      <td>1426</td>\n",
       "    </tr>\n",
       "    <tr>\n",
       "      <th>99996</th>\n",
       "      <td>99997</td>\n",
       "      <td>2499925</td>\n",
       "      <td>264.489</td>\n",
       "      <td>1426</td>\n",
       "    </tr>\n",
       "    <tr>\n",
       "      <th>99997</th>\n",
       "      <td>99998</td>\n",
       "      <td>2499950</td>\n",
       "      <td>264.491</td>\n",
       "      <td>1426</td>\n",
       "    </tr>\n",
       "    <tr>\n",
       "      <th>99998</th>\n",
       "      <td>99999</td>\n",
       "      <td>2499975</td>\n",
       "      <td>264.493</td>\n",
       "      <td>1426</td>\n",
       "    </tr>\n",
       "    <tr>\n",
       "      <th>99999</th>\n",
       "      <td>100000</td>\n",
       "      <td>2500000</td>\n",
       "      <td>264.496</td>\n",
       "      <td>1426</td>\n",
       "    </tr>\n",
       "  </tbody>\n",
       "</table>\n",
       "<p>44999 rows × 4 columns</p>\n",
       "</div>"
      ],
      "text/plain": [
       "       iteration  evaluations  runtime[s]  MAX_Aislamiento[MAX]\n",
       "55001      55002      1375050     139.979                  1426\n",
       "55002      55003      1375075     139.982                  1426\n",
       "55003      55004      1375100     139.984                  1426\n",
       "55004      55005      1375125     139.987                  1426\n",
       "55005      55006      1375150     139.989                  1426\n",
       "...          ...          ...         ...                   ...\n",
       "99995      99996      2499900     264.487                  1426\n",
       "99996      99997      2499925     264.489                  1426\n",
       "99997      99998      2499950     264.491                  1426\n",
       "99998      99999      2499975     264.493                  1426\n",
       "99999     100000      2500000     264.496                  1426\n",
       "\n",
       "[44999 rows x 4 columns]"
      ]
     },
     "execution_count": 98,
     "metadata": {},
     "output_type": "execute_result"
    }
   ],
   "source": [
    "ag_20_1[ag_20_1['MAX_Aislamiento[MAX]'] == 1426]"
   ]
  },
  {
   "cell_type": "code",
   "execution_count": null,
   "metadata": {},
   "outputs": [],
   "source": []
  }
 ],
 "metadata": {
  "kernelspec": {
   "display_name": "Python 3",
   "language": "python",
   "name": "python3"
  },
  "language_info": {
   "codemirror_mode": {
    "name": "ipython",
    "version": 3
   },
   "file_extension": ".py",
   "mimetype": "text/x-python",
   "name": "python",
   "nbconvert_exporter": "python",
   "pygments_lexer": "ipython3",
   "version": "3.6.9"
  }
 },
 "nbformat": 4,
 "nbformat_minor": 4
}
