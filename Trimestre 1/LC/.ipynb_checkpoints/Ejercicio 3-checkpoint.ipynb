{
 "cells": [
  {
   "cell_type": "markdown",
   "metadata": {},
   "source": [
    "# Ejercicio 3 - NLTK"
   ]
  },
  {
   "cell_type": "markdown",
   "metadata": {},
   "source": [
    "## Algortimo Lesk simplificado"
   ]
  },
  {
   "cell_type": "code",
   "execution_count": 1,
   "metadata": {},
   "outputs": [],
   "source": [
    "import nltk\n",
    "from nltk.corpus import stopwords\n",
    "from nltk.corpus import wordnet"
   ]
  },
  {
   "cell_type": "code",
   "execution_count": 6,
   "metadata": {},
   "outputs": [],
   "source": [
    "def lesk_simplified(word, sentence):\n",
    "    # return best meaning of variable word in sentence\n",
    "    meanings = wordnet.synsets(word)\n",
    "    best_meaning = meanings[0]\n",
    "    max_overlap = 0\n",
    "    sw = set(stopwords.words('english'))\n",
    "    context = set(sentence.split())\n",
    "    context = context.difference(sw)\n",
    "    \n",
    "    for m in meanings:\n",
    "        data = set((m.definition()+ \" \" + \" \". join(m.examples())).split(\" \"))\n",
    "        data = data.difference(sw)\n",
    "        overlap = len(context.intersection(data))\n",
    "        if overlap > max_overlap:\n",
    "            max_overlap = overlap\n",
    "            best_meaning = m\n",
    "\n",
    "    return best_meaning"
   ]
  },
  {
   "cell_type": "code",
   "execution_count": 7,
   "metadata": {},
   "outputs": [
    {
     "name": "stdout",
     "output_type": "stream",
     "text": [
      "Synset('word.n.04')\n"
     ]
    }
   ],
   "source": [
    "sentence = \"Yesterday I went to the bank to withdraw the money and the credit card did not work\"\n",
    "word = \"word\"\n",
    "print(lesk_simplified(word, sentence))"
   ]
  },
  {
   "cell_type": "code",
   "execution_count": null,
   "metadata": {},
   "outputs": [],
   "source": []
  }
 ],
 "metadata": {
  "kernelspec": {
   "display_name": "Python 3",
   "language": "python",
   "name": "python3"
  },
  "language_info": {
   "codemirror_mode": {
    "name": "ipython",
    "version": 3
   },
   "file_extension": ".py",
   "mimetype": "text/x-python",
   "name": "python",
   "nbconvert_exporter": "python",
   "pygments_lexer": "ipython3",
   "version": "3.6.9"
  }
 },
 "nbformat": 4,
 "nbformat_minor": 4
}
