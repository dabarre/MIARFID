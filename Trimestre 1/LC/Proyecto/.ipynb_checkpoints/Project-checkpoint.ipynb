{
 "cells": [
  {
   "cell_type": "markdown",
   "metadata": {},
   "source": [
    "# Morfosintactic Tagger Evaluation for Spanish\n",
    "\n",
    "Redactar cada tarea y hacer un video presentandolo\n",
    "\n",
    "Barajar corpus\n",
    "\n",
    "Show accuracy with confidence intervals\n",
    "\n",
    "10-fold cross validation"
   ]
  },
  {
   "cell_type": "code",
   "execution_count": 32,
   "metadata": {},
   "outputs": [],
   "source": [
    "import nltk\n",
    "from nltk.corpus import cess_esp\n",
    "from nltk.tag import hmm, tnt, AffixTagger\n",
    "import random\n",
    "from random import shuffle\n",
    "from math import sqrt\n",
    "import matplotlib.pyplot as plt"
   ]
  },
  {
   "cell_type": "code",
   "execution_count": 10,
   "metadata": {},
   "outputs": [],
   "source": [
    "def accuracy95(p, ndata):\n",
    "    return 1.95 * sqrt(p*(1-p)/ndata)\n",
    "\n",
    "def sSquared(values):\n",
    "    m = sum(values) / len(values)\n",
    "    squared = sum([(v - m)**2 for v in values]) / len(values)\n",
    "    lowerCI = m-squared if m-squared < 0.0 else 0.0\n",
    "    upperCI = m+squared if m+squared > 1.0 else 1.0\n",
    "    return \"[{:.4f}, {:.4f}]\".format(lowerCI, upperCI)\n",
    "\n",
    "\n",
    "#### ??????????????\n",
    "\n",
    "def sSquared2(values):\n",
    "    m = sum(values) / len(values)\n",
    "    squared = sum([(v - m)**2 for v in values]) / len(values)\n",
    "    return round(media*100, 2), round(sS)"
   ]
  },
  {
   "cell_type": "code",
   "execution_count": 11,
   "metadata": {
    "scrolled": true
   },
   "outputs": [],
   "source": [
    "# Load all sentences\n",
    "corpus_all = list(cess_esp.tagged_sents())\n",
    "number_sentences = len(corpus_all)"
   ]
  },
  {
   "cell_type": "code",
   "execution_count": 12,
   "metadata": {},
   "outputs": [],
   "source": [
    "corpus_red = []\n",
    "\n",
    "for sentece in corpus_all:\n",
    "    new_sentence = []\n",
    "\n",
    "    for word, label in sentece:\n",
    "        if word != '*0*':\n",
    "            if str.startswith(label, 'v') or str.startswith(label, 'F'):\n",
    "                label = label[:3]\n",
    "            else:\n",
    "                label = label[:2]\n",
    "\n",
    "            new_sentence.append((word, label))\n",
    "    \n",
    "    corpus_red.append(new_sentence)"
   ]
  },
  {
   "cell_type": "code",
   "execution_count": 13,
   "metadata": {},
   "outputs": [],
   "source": [
    "# Shuffle\n",
    "corpus_all_sf = list(corpus_all).copy()\n",
    "corpus_red_sf = corpus_red.copy()\n",
    "random.seed(21)\n",
    "shuffle(corpus_all_sf)\n",
    "random.seed(21)\n",
    "shuffle(corpus_red_sf)"
   ]
  },
  {
   "cell_type": "code",
   "execution_count": 14,
   "metadata": {},
   "outputs": [],
   "source": [
    "train_sent_len = int(number_sentences*0.9)\n",
    "\n",
    "tr_all = corpus_all_sf[:train_sent_len]\n",
    "te_all = corpus_all_sf[train_sent_len:]\n",
    "\n",
    "tr_red = corpus_red_sf[:train_sent_len]\n",
    "te_red = corpus_red_sf[train_sent_len:]\n",
    "\n",
    "\n",
    "k = 10\n",
    "partitionSize = int(number_sentences/k)\n",
    "\n",
    "partitions_all = [corpus_all_sf[i*partitionSize:(i*partitionSize)+partitionSize] for i in range(k)]\n",
    "partitions_red = [corpus_red_sf[i*partitionSize:(i*partitionSize)+partitionSize] for i in range(k)]"
   ]
  },
  {
   "cell_type": "markdown",
   "metadata": {},
   "source": [
    "## Task 1\n",
    "Use hmm with cess_esp with all and reduced categories, using cross-validation"
   ]
  },
  {
   "cell_type": "code",
   "execution_count": 15,
   "metadata": {},
   "outputs": [],
   "source": [
    "tagger_hmm = hmm.HiddenMarkovModelTagger\n",
    "acc_t1_HMM_all = []\n",
    "acc_t1_HMM_red = []"
   ]
  },
  {
   "cell_type": "code",
   "execution_count": 16,
   "metadata": {},
   "outputs": [],
   "source": [
    "for i in range(k):\n",
    "    # All categories\n",
    "    te_all_cv = partitions_all[i]\n",
    "    tr_all_cv = partitions_all[:i] + partitions_all[i+1:]\n",
    "    tr_all_cv = [val for sublist in tr_all_cv for val in sublist]\n",
    "      \n",
    "    tagger_hmm = tagger_hmm.train(tr_all_cv[0:-1])\n",
    "    acc_t1_HMM_all.append(tagger_hmm.evaluate(te_all_cv))\n",
    "    \n",
    "    # Reduced categories\n",
    "    te_red_cv = partitions_red[i]\n",
    "    tr_red_cv = partitions_red[:i] + partitions_red[i+1:]\n",
    "    tr_red_cv = [val for sublist in tr_red_cv for val in sublist]\n",
    "      \n",
    "    tagger_hmm = tagger_hmm.train(tr_red_cv[0:-1])\n",
    "    acc_t1_HMM_red.append(tagger_hmm.evaluate(te_red_cv))"
   ]
  },
  {
   "cell_type": "code",
   "execution_count": 17,
   "metadata": {},
   "outputs": [],
   "source": [
    "ic_t1_HMM_all = [accuracy95(p, partitionSize) for p in acc_t1_HMM_all]\n",
    "ic_t1_HMM_red = [accuracy95(p, partitionSize) for p in acc_t1_HMM_red]"
   ]
  },
  {
   "cell_type": "code",
   "execution_count": 18,
   "metadata": {},
   "outputs": [
    {
     "data": {
      "image/png": "[encoded data removed]",
      "text/plain": [
       "<Figure size 432x288 with 1 Axes>"
      ]
     },
     "metadata": {
      "needs_background": "light"
     },
     "output_type": "display_data"
    },
    {
     "data": {
      "image/png": "[encoded data removed]",
      "text/plain": [
       "<Figure size 432x288 with 1 Axes>"
      ]
     },
     "metadata": {
      "needs_background": "light"
     },
     "output_type": "display_data"
    }
   ],
   "source": [
    "x = [i for i in range(10)]\n",
    "graphRange = [-1, 10, 0.75, 1.0]\n",
    "\n",
    "plt.title('10-fold cross validation HMM complete')\n",
    "plt.xlabel('Fold')\n",
    "plt.ylabel('Accuracy')\n",
    "plt.axis(graphRange)\n",
    "y = acc_t1_HMM_all\n",
    "plt.plot(x, y,'or')\n",
    "Tic = [accuracy95(p, number_sentences//k) for p in y]\n",
    "plt.errorbar(x, y, yerr=Tic, linestyle='None')\n",
    "plt.show()\n",
    "\n",
    "plt.title('10-fold cross validation HMM reduced')\n",
    "plt.xlabel('Fold')\n",
    "plt.ylabel('Accuracy')\n",
    "plt.axis(graphRange)\n",
    "y = acc_t1_HMM_red\n",
    "plt.plot(x, y,'or')\n",
    "Tic = [accuracy95(p, number_sentences//k) for p in y]\n",
    "plt.errorbar(x, y, yerr=Tic, linestyle='None')\n",
    "plt.show()"
   ]
  },
  {
   "cell_type": "code",
   "execution_count": 54,
   "metadata": {},
   "outputs": [
    {
     "name": "stdout",
     "output_type": "stream",
     "text": [
      "Fold & Accuracy (\\%) & IC 95\\% (\\%) \\\\ \\hline\n",
      "0 & 89.24 & [86.78, 91.70] \\\\\n",
      "1 & 89.50 & [87.07, 91.94] \\\\\n",
      "2 & 89.72 & [87.30, 92.13] \\\\\n",
      "3 & 89.62 & [87.20, 92.04] \\\\\n",
      "4 & 89.34 & [86.89, 91.79] \\\\\n",
      "5 & 90.00 & [87.62, 92.38] \\\\\n",
      "6 & 89.87 & [87.47, 92.27] \\\\\n",
      "7 & 89.43 & [86.99, 91.87] \\\\\n",
      "8 & 90.08 & [87.70, 92.45] \\\\\n",
      "9 & 89.94 & [87.55, 92.33] \\\\\n"
     ]
    }
   ],
   "source": [
    "print(\"Fold & Accuracy (\\%) & IC 95\\% (\\%) \\\\\\\\ \\\\hline\")\n",
    "for i in range(k):\n",
    "    m = acc_t1_HMM_all[i]\n",
    "    ic = ic_t1_HMM_all[i]\n",
    "    lowerCI = m-ic if m-ic > 0.0 else 0.0\n",
    "    upperCI = m+ic if m+ic < 1.0 else 1.0\n",
    "    print(\"{} & {:.2f} & [{:.2f}, {:.2f}] \\\\\\\\\".format(i, m*100, lowerCI*100, upperCI*100))"
   ]
  },
  {
   "cell_type": "code",
   "execution_count": 53,
   "metadata": {},
   "outputs": [
    {
     "name": "stdout",
     "output_type": "stream",
     "text": [
      "Fold & Accuracy (\\%) & IC 95\\% (\\%) \\\\ \\hline\n",
      "0 & 92.29 & [90.18, 94.41] \\\\\n",
      "1 & 92.83 & [90.79, 94.88] \\\\\n",
      "2 & 92.64 & [90.57, 94.72] \\\\\n",
      "3 & 92.32 & [90.21, 94.44] \\\\\n",
      "4 & 92.36 & [90.25, 94.47] \\\\\n",
      "5 & 92.64 & [90.56, 94.71] \\\\\n",
      "6 & 92.72 & [90.65, 94.78] \\\\\n",
      "7 & 92.48 & [90.39, 94.57] \\\\\n",
      "8 & 92.81 & [90.76, 94.86] \\\\\n",
      "9 & 92.73 & [90.66, 94.79] \\\\\n"
     ]
    }
   ],
   "source": [
    "print(\"Fold & Accuracy (\\%) & IC 95\\% (\\%) \\\\\\\\ \\\\hline\")\n",
    "for i in range(k):\n",
    "    m = acc_t1_HMM_red[i]\n",
    "    ic = ic_t1_HMM_red[i]\n",
    "    lowerCI = m-ic if m-ic > 0.0 else 0.0\n",
    "    upperCI = m+ic if m+ic < 1.0 else 1.0\n",
    "    print(\"{} & {:.2f} & [{:.2f}, {:.2f}] \\\\\\\\\".format(i, m*100, lowerCI*100, upperCI*100))"
   ]
  },
  {
   "cell_type": "code",
   "execution_count": 52,
   "metadata": {},
   "outputs": [
    {
     "data": {
      "text/plain": [
       "(0.89673227595514, 0.9258214956793254)"
      ]
     },
     "execution_count": 52,
     "metadata": {},
     "output_type": "execute_result"
    }
   ],
   "source": [
    "sum(acc_t1_HMM_all)/len(acc_t1_HMM_all), sum(acc_t1_HMM_red)/len(acc_t1_HMM_red)"
   ]
  },
  {
   "cell_type": "markdown",
   "metadata": {},
   "source": [
    "## Task 2\n",
    "No cross-validation, use hmm and increase the training partition from 1/9 to 9/9"
   ]
  },
  {
   "cell_type": "code",
   "execution_count": 21,
   "metadata": {},
   "outputs": [],
   "source": [
    "tagger_hmm = hmm.HiddenMarkovModelTagger\n",
    "acc_t2_HMM_red = []"
   ]
  },
  {
   "cell_type": "code",
   "execution_count": 28,
   "metadata": {},
   "outputs": [],
   "source": [
    "te_red = partitions_red[9]\n",
    "                           \n",
    "for i in range(k-1):\n",
    "    # Reduced categories\n",
    "    tr_red = partitions_red[:i+1]\n",
    "    tr_red = [val for sublist in tr_red for val in sublist]\n",
    "      \n",
    "    tagger_hmm = tagger_hmm.train(tr_red[0:-1])\n",
    "    acc_t2_HMM_red.append(tagger_hmm.evaluate(te_red))"
   ]
  },
  {
   "cell_type": "code",
   "execution_count": 29,
   "metadata": {},
   "outputs": [],
   "source": [
    "ic_t2_HMM_red = [accuracy95(p, partitionSize) for p in acc_t2_HMM_red]"
   ]
  },
  {
   "cell_type": "code",
   "execution_count": 30,
   "metadata": {},
   "outputs": [
    {
     "data": {
      "image/png": "[encoded data removed]",
      "text/plain": [
       "<Figure size 432x288 with 1 Axes>"
      ]
     },
     "metadata": {
      "needs_background": "light"
     },
     "output_type": "display_data"
    }
   ],
   "source": [
    "x = [i for i in range(10)]\n",
    "graphRange = [-1, 10, 0.75, 1.0]\n",
    "\n",
    "plt.title('Incremental partition usage HMM reduced')\n",
    "plt.xlabel('Partitions used in training')\n",
    "plt.ylabel('Accuracy')\n",
    "plt.axis(graphRange)\n",
    "y = acc_t1_HMM_all\n",
    "plt.plot(x, y,'or')\n",
    "Tic = [accuracy95(p, number_sentences//k) for p in y]\n",
    "plt.errorbar(x, y, yerr=Tic, linestyle='None')\n",
    "plt.show()"
   ]
  },
  {
   "cell_type": "code",
   "execution_count": 55,
   "metadata": {},
   "outputs": [
    {
     "name": "stdout",
     "output_type": "stream",
     "text": [
      "Partitions used in training & Accuracy (\\%) & IC 95\\% (\\%) \\\\ \\hline\n",
      "0 92.29 & [90.18, 94.41] \\\\\n",
      "1 92.83 & [90.79, 94.88] \\\\\n",
      "2 92.64 & [90.57, 94.72] \\\\\n",
      "3 92.32 & [90.21, 94.44] \\\\\n",
      "4 92.36 & [90.25, 94.47] \\\\\n",
      "5 92.64 & [90.56, 94.71] \\\\\n",
      "6 92.72 & [90.65, 94.78] \\\\\n",
      "7 92.48 & [90.39, 94.57] \\\\\n",
      "8 92.81 & [90.76, 94.86] \\\\\n"
     ]
    }
   ],
   "source": [
    "print(\"Partitions used in training & Accuracy (\\%) & IC 95\\% (\\%) \\\\\\\\ \\\\hline\")\n",
    "for i in range(k-1):\n",
    "    m = acc_t1_HMM_red[i]\n",
    "    ic = ic_t1_HMM_red[i]\n",
    "    lowerCI = m-ic if m-ic > 0.0 else 0.0\n",
    "    upperCI = m+ic if m+ic < 1.0 else 1.0\n",
    "    print(\"{} & {:.2f} & [{:.2f}, {:.2f}] \\\\\\\\\".format(i, m*100, lowerCI*100, upperCI*100))"
   ]
  },
  {
   "cell_type": "markdown",
   "metadata": {},
   "source": [
    "## Task 3\n",
    "Con tnt no incorpora suavizado para palabras desconocidas.\n",
    "\n",
    "Usar método basado en sufijos de las palabras para construir un modelo para las palabras desconocidas (Affix Tagger)\n",
    "\n",
    "En base al sufijo de la palabra desconocida se le asigna una categoría morfosintáctica\n",
    "\n",
    "Estudiar la longitud de los sufijos en número de letras\n",
    "\n",
    "Decidido el mejor sufijo incorporarlo como modelo de suavizado al etiquetador tnt y ver que pasa"
   ]
  },
  {
   "cell_type": "code",
   "execution_count": 40,
   "metadata": {},
   "outputs": [],
   "source": [
    "tagger_hmm = hmm.HiddenMarkovModelTagger\n",
    "acc_t3_TNT_red = []"
   ]
  },
  {
   "cell_type": "code",
   "execution_count": 41,
   "metadata": {},
   "outputs": [],
   "source": [
    "for lenSuffix in range(0, 6):\n",
    "    acc_aux = []\n",
    "    for i in range(k):\n",
    "        # All reduced\n",
    "        te_red_cv = partitions_red[i]\n",
    "        tr_red_cv = partitions_red[:i] + partitions_red[i+1:]\n",
    "        tr_red_cv = [val for sublist in tr_red_cv for val in sublist]\n",
    "    \n",
    "        suffix_tagger = AffixTagger(tr_red_cv, affix_length=-lenSuffix)\n",
    "        tagger_TNT = tnt.TnT(N=100, unk=suffix_tagger, Trained=True)\n",
    "        tagger_TNT.train(tr_red_cv)\n",
    "        acc_aux.append(tagger_TNT.evaluate(te_red_cv))\n",
    "    \n",
    "    mean_acc = sum(acc_aux)/len(acc_aux)\n",
    "    acc_t3_TNT_red.append(mean_acc)"
   ]
  },
  {
   "cell_type": "code",
   "execution_count": 42,
   "metadata": {},
   "outputs": [
    {
     "data": {
      "text/plain": [
       "[0.901616411331022,\n",
       " 0.9295525788428396,\n",
       " 0.939060728482452,\n",
       " 0.9470409561885225,\n",
       " 0.9441929848004212,\n",
       " 0.9357072584118565]"
      ]
     },
     "execution_count": 42,
     "metadata": {},
     "output_type": "execute_result"
    }
   ],
   "source": [
    "acc_t3_TNT_red"
   ]
  },
  {
   "cell_type": "code",
   "execution_count": 43,
   "metadata": {},
   "outputs": [],
   "source": [
    "ic_t3_TNT_red = [accuracy95(p, partitionSize) for p in acc_t3_TNT_red]"
   ]
  },
  {
   "cell_type": "code",
   "execution_count": 46,
   "metadata": {},
   "outputs": [
    {
     "data": {
      "image/png": "[encoded data removed]",
      "text/plain": [
       "<Figure size 432x288 with 1 Axes>"
      ]
     },
     "metadata": {
      "needs_background": "light"
     },
     "output_type": "display_data"
    }
   ],
   "source": [
    "x = [i for i in range(len(acc_t3_TNT_red))]\n",
    "graphRange = [-1, 6, 0.75, 1.0]\n",
    "\n",
    "plt.title('Incremental suffix length TNT reduced 10-fold cross validation')\n",
    "plt.xlabel('Suffix length')\n",
    "plt.ylabel('Accuracy')\n",
    "plt.axis(graphRange)\n",
    "y = acc_t3_TNT_red\n",
    "plt.plot(x, y,'or')\n",
    "Tic = [accuracy95(p, number_sentences//k) for p in y]\n",
    "plt.errorbar(x, y, yerr=Tic, linestyle='None')\n",
    "plt.show()"
   ]
  },
  {
   "cell_type": "code",
   "execution_count": 48,
   "metadata": {},
   "outputs": [
    {
     "name": "stdout",
     "output_type": "stream",
     "text": [
      "Length of Suffix & Accuracy (\\%) & IC 95\\% (\\%)\n",
      "0 90.16 & [87.80, 92.53] \\\\\n",
      "1 92.96 & [90.92, 94.99] \\\\\n",
      "2 93.91 & [92.01, 95.81] \\\\\n",
      "3 94.70 & [92.93, 96.48] \\\\\n",
      "4 94.42 & [92.60, 96.24] \\\\\n",
      "5 93.57 & [91.62, 95.52] \\\\\n"
     ]
    }
   ],
   "source": [
    "print(\"Length of Suffix & Accuracy (\\%) & IC 95\\% (\\%)\")\n",
    "for i in range(len(acc_t3_TNT_red)):\n",
    "    m = acc_t3_TNT_red[i]\n",
    "    ic = ic_t3_TNT_red[i]\n",
    "    lowerCI = m-ic if m-ic > 0.0 else 0.0\n",
    "    upperCI = m+ic if m+ic < 1.0 else 1.0\n",
    "    print(\"{} {:.2f} & [{:.2f}, {:.2f}] \\\\\\\\\".format(i, m*100, lowerCI*100, upperCI*100))"
   ]
  },
  {
   "cell_type": "markdown",
   "metadata": {},
   "source": [
    "## Task 4\n",
    "Utilizar Brill, CRF y perceptron para compararlos con tnt y hmm para el conjunto reducido de etiquetadores\n",
    "\n",
    "Brill - probar diferente etiquetadores iniciales (unigram o hmm tagger)\n",
    "\n",
    "Puede ser hold-out o cross-validation dependiendo del tiempo"
   ]
  },
  {
   "cell_type": "code",
   "execution_count": null,
   "metadata": {},
   "outputs": [],
   "source": []
  },
  {
   "cell_type": "markdown",
   "metadata": {},
   "source": [
    "## Task 5\n",
    "Evaluar una herramienta (freeling suggested pero hay gente que ha hecho spacy, neural networks)\n",
    "\n",
    "Facilidad y/o problemas de instalación, facilidad de uso, documentación, funcionalidad, etc.\n",
    "\n",
    "Realizar un etiquetado morfosintáctico del fichero Alicia.txt y entregar un fichero de texto: palabra/etiqueta"
   ]
  },
  {
   "cell_type": "code",
   "execution_count": null,
   "metadata": {},
   "outputs": [],
   "source": []
  }
 ],
 "metadata": {
  "kernelspec": {
   "display_name": "Python 3",
   "language": "python",
   "name": "python3"
  },
  "language_info": {
   "codemirror_mode": {
    "name": "ipython",
    "version": 3
   },
   "file_extension": ".py",
   "mimetype": "text/x-python",
   "name": "python",
   "nbconvert_exporter": "python",
   "pygments_lexer": "ipython3",
   "version": "3.6.9"
  }
 },
 "nbformat": 4,
 "nbformat_minor": 4
}
