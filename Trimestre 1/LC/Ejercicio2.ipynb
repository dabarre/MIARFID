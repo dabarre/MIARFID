{
 "cells": [
  {
   "cell_type": "code",
   "execution_count": 1,
   "metadata": {},
   "outputs": [],
   "source": [
    "import nltk\n",
    "from nltk.corpus import cess_esp\n",
    "from nltk.tag import hmm, tnt\n",
    "from random import shuffle\n",
    "from math import sqrt\n",
    "import matplotlib.pyplot as plt"
   ]
  },
  {
   "cell_type": "code",
   "execution_count": 2,
   "metadata": {},
   "outputs": [],
   "source": [
    "corpus_sentences = cess_esp.tagged_sents()\n",
    "number_sentences = len(corpus_sentences)"
   ]
  },
  {
   "cell_type": "markdown",
   "metadata": {},
   "source": [
    "## 1. Process cess_esp"
   ]
  },
  {
   "cell_type": "code",
   "execution_count": 3,
   "metadata": {},
   "outputs": [],
   "source": [
    "corpus = []\n",
    "\n",
    "for sentece in corpus_sentences:\n",
    "    new_sentence = []\n",
    "\n",
    "    for word, label in sentece:\n",
    "        if word != '*0*':\n",
    "            if str.startswith(label, 'v') or str.startswith(label, 'F'):\n",
    "                label = label[:3]\n",
    "            else:\n",
    "                label = label[:2]\n",
    "\n",
    "            new_sentence.append((word, label))\n",
    "    \n",
    "    corpus.append(new_sentence)"
   ]
  },
  {
   "cell_type": "code",
   "execution_count": 4,
   "metadata": {},
   "outputs": [],
   "source": [
    "train_sent_len = int(number_sentences*0.9)\n",
    "\n",
    "train_sent = corpus[:train_sent_len]\n",
    "test_sent = corpus[train_sent_len:]"
   ]
  },
  {
   "cell_type": "markdown",
   "metadata": {},
   "source": [
    "## 2.1 HMM"
   ]
  },
  {
   "cell_type": "code",
   "execution_count": 5,
   "metadata": {},
   "outputs": [],
   "source": [
    "tagger_hmm = hmm.HiddenMarkovModelTagger.train(train_sent)"
   ]
  },
  {
   "cell_type": "code",
   "execution_count": 6,
   "metadata": {},
   "outputs": [
    {
     "name": "stdout",
     "output_type": "stream",
     "text": [
      "['Y', 'al_final', 'le', 'pedía', 'que', 'colabore', 'conmigo', 'en', 'la', 'campaña', 'electoral', 'vasca', '-', '.']\n",
      "Y | cc\n",
      "al_final | rg\n",
      "le | pp\n",
      "pedía | vmi\n",
      "que | cs\n",
      "colabore | vai\n",
      "conmigo | vmp\n",
      "en | sp\n",
      "la | da\n",
      "campaña | nc\n",
      "electoral | aq\n",
      "vasca | aq\n",
      "- | Fg\n",
      ". | Fp\n"
     ]
    }
   ],
   "source": [
    "words = [word for word, label in test_sent[0]]\n",
    "print(words)\n",
    "pred = tagger_hmm.tag(words)\n",
    "for word, label in pred:\n",
    "    print(\"{} | {}\".format(word, label))"
   ]
  },
  {
   "cell_type": "code",
   "execution_count": 7,
   "metadata": {},
   "outputs": [
    {
     "data": {
      "text/plain": [
       "0.8784427571832664"
      ]
     },
     "execution_count": 7,
     "metadata": {},
     "output_type": "execute_result"
    }
   ],
   "source": [
    "tagger_hmm.evaluate(test_sent)"
   ]
  },
  {
   "cell_type": "markdown",
   "metadata": {},
   "source": [
    "## 2.2 TNT"
   ]
  },
  {
   "cell_type": "code",
   "execution_count": 8,
   "metadata": {},
   "outputs": [],
   "source": [
    "tagger_TNT = tnt.TnT()\n",
    "tagger_TNT.train(train_sent)"
   ]
  },
  {
   "cell_type": "code",
   "execution_count": 9,
   "metadata": {},
   "outputs": [
    {
     "name": "stdout",
     "output_type": "stream",
     "text": [
      "['Y', 'al_final', 'le', 'pedía', 'que', 'colabore', 'conmigo', 'en', 'la', 'campaña', 'electoral', 'vasca', '-', '.']\n",
      "Y | cc\n",
      "al_final | rg\n",
      "le | pp\n",
      "pedía | vmi\n",
      "que | cs\n",
      "colabore | Unk\n",
      "conmigo | Unk\n",
      "en | sp\n",
      "la | da\n",
      "campaña | nc\n",
      "electoral | aq\n",
      "vasca | aq\n",
      "- | Fg\n",
      ". | Fp\n"
     ]
    }
   ],
   "source": [
    "words = [word for word, label in test_sent[0]]\n",
    "print(words)\n",
    "pred = tagger_TNT.tag(words)\n",
    "for word, label in pred:\n",
    "    print(\"{} | {}\".format(word, label))"
   ]
  },
  {
   "cell_type": "code",
   "execution_count": 10,
   "metadata": {},
   "outputs": [
    {
     "data": {
      "text/plain": [
       "0.8255173440524044"
      ]
     },
     "execution_count": 10,
     "metadata": {},
     "output_type": "execute_result"
    }
   ],
   "source": [
    "tagger_TNT.evaluate(test_sent)"
   ]
  },
  {
   "cell_type": "markdown",
   "metadata": {},
   "source": [
    "## 3. Cross-validation"
   ]
  },
  {
   "cell_type": "code",
   "execution_count": 11,
   "metadata": {},
   "outputs": [],
   "source": [
    "tagger_hmm = hmm.HiddenMarkovModelTagger\n",
    "acc_HMM_originalOrder = []\n",
    "acc_HMM_shuffle = []\n",
    "\n",
    "#tagger_TNT = tnt.TnT()\n",
    "acc_TNT_originalOrder = []\n",
    "acc_TNT_shuffle = []\n",
    "\n",
    "k = 10\n",
    "partitionSize = int(len(corpus)/k)\n",
    "partitions = [corpus[i*partitionSize:(i*partitionSize)+partitionSize] for i in range(k)]\n",
    "\n",
    "shuffled_corpus = corpus.copy()\n",
    "shuffle(shuffled_corpus)\n",
    "partitions_shuffled = [shuffled_corpus[i*partitionSize:(i*partitionSize)+partitionSize] for i in range(k)]"
   ]
  },
  {
   "cell_type": "markdown",
   "metadata": {},
   "source": [
    "###  Original order"
   ]
  },
  {
   "cell_type": "code",
   "execution_count": 12,
   "metadata": {},
   "outputs": [],
   "source": [
    "for i in range(k):\n",
    "    test = partitions[i]\n",
    "    train = partitions[:i] + partitions[i+1:]\n",
    "    train = [val for sublist in train for val in sublist]\n",
    "    \n",
    "    tagger_hmm = tagger_hmm.train(train[0:-1])\n",
    "    acc_HMM_originalOrder.append(tagger_hmm.evaluate(test))\n",
    "    \n",
    "    tagger_TNT = tnt.TnT()\n",
    "    tagger = tagger_TNT.train(train[0:-1])\n",
    "    acc_TNT_originalOrder.append(tagger_TNT.evaluate(test))"
   ]
  },
  {
   "cell_type": "code",
   "execution_count": 13,
   "metadata": {},
   "outputs": [
    {
     "data": {
      "text/plain": [
       "[0.9284063638787663,\n",
       " 0.9238470598894627,\n",
       " 0.9228301472203911,\n",
       " 0.9251021133013674,\n",
       " 0.9228631913204551,\n",
       " 0.8781806196440343,\n",
       " 0.8878207393793737,\n",
       " 0.8914285714285715,\n",
       " 0.8912859560067682,\n",
       " 0.8784427571832664]"
      ]
     },
     "execution_count": 13,
     "metadata": {},
     "output_type": "execute_result"
    }
   ],
   "source": [
    "acc_HMM_originalOrder"
   ]
  },
  {
   "cell_type": "code",
   "execution_count": 14,
   "metadata": {},
   "outputs": [
    {
     "data": {
      "text/plain": [
       "[0.8963203270820371,\n",
       " 0.8886019751744133,\n",
       " 0.8865304328718963,\n",
       " 0.889540046172971,\n",
       " 0.8927846873070477,\n",
       " 0.838892551087673,\n",
       " 0.8582738389764615,\n",
       " 0.850780559646539,\n",
       " 0.8591370558375635,\n",
       " 0.8255173440524044]"
      ]
     },
     "execution_count": 14,
     "metadata": {},
     "output_type": "execute_result"
    }
   ],
   "source": [
    "acc_TNT_originalOrder"
   ]
  },
  {
   "cell_type": "markdown",
   "metadata": {},
   "source": [
    "### Shuffled"
   ]
  },
  {
   "cell_type": "code",
   "execution_count": 15,
   "metadata": {},
   "outputs": [],
   "source": [
    "for i in range(k):\n",
    "    test = partitions_shuffled[i]\n",
    "    train = partitions_shuffled[:i] + partitions_shuffled[i+1:]\n",
    "    train = [val for sublist in train for val in sublist]\n",
    "    \n",
    "    tagger_hmm = tagger_hmm.train(train[0:-1])\n",
    "    acc_HMM_shuffle.append(tagger_hmm.evaluate(test))\n",
    "    \n",
    "    tagger_TNT = tnt.TnT()\n",
    "    tagger = tagger_TNT.train(train[0:-1])\n",
    "    acc_TNT_shuffle.append(tagger_TNT.evaluate(test))"
   ]
  },
  {
   "cell_type": "code",
   "execution_count": 16,
   "metadata": {},
   "outputs": [
    {
     "data": {
      "text/plain": [
       "[0.9259748843357568,\n",
       " 0.9248806806391368,\n",
       " 0.925578685311722,\n",
       " 0.9245889142981596,\n",
       " 0.9263062679578589,\n",
       " 0.9260170689564898,\n",
       " 0.9250297715708563,\n",
       " 0.9278190664599262,\n",
       " 0.9263567931778702,\n",
       " 0.9253208238973364]"
      ]
     },
     "execution_count": 16,
     "metadata": {},
     "output_type": "execute_result"
    }
   ],
   "source": [
    "acc_HMM_shuffle"
   ]
  },
  {
   "cell_type": "code",
   "execution_count": 17,
   "metadata": {},
   "outputs": [
    {
     "data": {
      "text/plain": [
       "[0.9000457572830343,\n",
       " 0.9018987341772152,\n",
       " 0.9033847131733672,\n",
       " 0.9020472612436023,\n",
       " 0.9026284984569544,\n",
       " 0.9016178857531808,\n",
       " 0.8969362347082386,\n",
       " 0.9032775490563011,\n",
       " 0.905142917302732,\n",
       " 0.9019195513857435]"
      ]
     },
     "execution_count": 17,
     "metadata": {},
     "output_type": "execute_result"
    }
   ],
   "source": [
    "acc_TNT_shuffle"
   ]
  },
  {
   "cell_type": "markdown",
   "metadata": {},
   "source": [
    "## 4. Results"
   ]
  },
  {
   "cell_type": "code",
   "execution_count": 18,
   "metadata": {},
   "outputs": [],
   "source": [
    "def sSquared(values):\n",
    "    m = sum(values) / len(values)\n",
    "    squared = sum([(v - m)**2 for v in values]) / len(values)\n",
    "    leftInterval = s\n",
    "    return \"[{:.4f}, {:.4f}]\".format(m-squared, m+squared)"
   ]
  },
  {
   "cell_type": "code",
   "execution_count": 19,
   "metadata": {},
   "outputs": [],
   "source": [
    "def accuracy95(p, ndatos):\n",
    "    return 1.95 * sqrt(p*(1-p)/ndatos)"
   ]
  },
  {
   "cell_type": "code",
   "execution_count": 20,
   "metadata": {},
   "outputs": [
    {
     "name": "stdout",
     "output_type": "stream",
     "text": [
      "Cross validation HMM:\t\t[0.9046, 0.9054]\n",
      "Cross validation HMM:\t\t[0.9258, 0.9258]\n",
      "Cross validation TNT shuffled:\t[0.8681, 0.8692]\n",
      "Cross validation TNT shuffled:\t[0.9019, 0.9019]\n"
     ]
    },
    {
     "data": {
      "image/png": "[encoded data removed]",
      "text/plain": [
       "<Figure size 432x288 with 1 Axes>"
      ]
     },
     "metadata": {},
     "output_type": "display_data"
    },
    {
     "data": {
      "image/png": "[encoded data removed]",
      "text/plain": [
       "<Figure size 432x288 with 1 Axes>"
      ]
     },
     "metadata": {},
     "output_type": "display_data"
    },
    {
     "data": {
      "image/png": "[encoded data removed]",
      "text/plain": [
       "<Figure size 432x288 with 1 Axes>"
      ]
     },
     "metadata": {},
     "output_type": "display_data"
    },
    {
     "data": {
      "image/png": "[encoded data removed]",
      "text/plain": [
       "<Figure size 432x288 with 1 Axes>"
      ]
     },
     "metadata": {},
     "output_type": "display_data"
    }
   ],
   "source": [
    "print(\"Cross validation HMM:\\t\\t{}\".format(sSquared(acc_HMM_originalOrder)))\n",
    "print(\"Cross validation HMM:\\t\\t{}\".format(sSquared(acc_HMM_shuffle)))\n",
    "print(\"Cross validation TNT shuffled:\\t{}\".format(sSquared(acc_TNT_originalOrder)))\n",
    "print(\"Cross validation TNT shuffled:\\t{}\".format(sSquared(acc_TNT_shuffle)))\n",
    "\n",
    "x = [i for i in range(10)]\n",
    "graphRange = [-1, 10, 0.75, 0.96]\n",
    "\n",
    "plt.title('10-fold cross validation HMM')\n",
    "plt.xlabel('Fold')\n",
    "plt.ylabel('Accuracy')\n",
    "plt.axis(graphRange)\n",
    "y = acc_HMM_originalOrder\n",
    "plt.plot(x, y,'or')\n",
    "Tic=[accuracy95(p, len(corpus)//k) for p in y]# Lista con los intervalos de confianza\n",
    "plt.errorbar(x, y, yerr=Tic, linestyle='None')\n",
    "plt.show()\n",
    "\n",
    "plt.title('10-fold cross validation HMM shuffle')\n",
    "plt.xlabel('Fold')\n",
    "plt.ylabel('Accuracy')\n",
    "plt.axis(graphRange)\n",
    "y = acc_HMM_shuffle\n",
    "plt.plot(x, y,'or')\n",
    "Tic=[accuracy95(p, len(corpus)//k) for p in y]# Lista con los intervalos de confianza\n",
    "plt.errorbar(x, y, yerr=Tic, linestyle='None')\n",
    "plt.show()\n",
    "\n",
    "plt.title('10-fold cross validation TNT')\n",
    "plt.xlabel('Fold')\n",
    "plt.ylabel('Accuracy')\n",
    "plt.axis(graphRange)\n",
    "y = acc_TNT_originalOrder\n",
    "plt.plot(x, y,'or')\n",
    "Tic=[accuracy95(p, len(corpus)//k) for p in y]# Lista con los intervalos de confianza\n",
    "plt.errorbar(x, y, yerr=Tic, linestyle='None')\n",
    "plt.show()\n",
    "\n",
    "plt.title('10-fold cross validation TNT shuffle')\n",
    "plt.xlabel('Fold')\n",
    "plt.ylabel('Accuracy')\n",
    "plt.axis(graphRange)\n",
    "y = acc_TNT_shuffle\n",
    "plt.plot(x, y,'or')\n",
    "Tic=[accuracy95(p, len(corpus)//k) for p in y]# Lista con los intervalos de confianza\n",
    "plt.errorbar(x, y, yerr=Tic, linestyle='None')\n",
    "plt.show()"
   ]
  }
 ],
 "metadata": {
  "kernelspec": {
   "display_name": "Python 3",
   "language": "python",
   "name": "python3"
  },
  "language_info": {
   "codemirror_mode": {
    "name": "ipython",
    "version": 3
   },
   "file_extension": ".py",
   "mimetype": "text/x-python",
   "name": "python",
   "nbconvert_exporter": "python",
   "pygments_lexer": "ipython3",
   "version": "3.6.9"
  }
 },
 "nbformat": 4,
 "nbformat_minor": 2
}
